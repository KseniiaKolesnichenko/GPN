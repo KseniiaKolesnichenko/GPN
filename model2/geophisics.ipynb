{
 "cells": [
  {
   "cell_type": "code",
   "execution_count": 1,
   "metadata": {},
   "outputs": [],
   "source": [
    "import pandas as pd\n",
    "import numpy as np\n",
    "from os import listdir\n",
    "from os.path import isfile, join"
   ]
  },
  {
   "cell_type": "code",
   "execution_count": 2,
   "metadata": {},
   "outputs": [],
   "source": [
    "DATA_DIR = './data'\n",
    "files = [f for f in listdir(DATA_DIR) if isfile(join(DATA_DIR, f))]\n",
    "\n",
    "dfOriginal = pd.DataFrame()\n",
    "for f in files:\n",
    "    file = pd.read_csv(join(DATA_DIR, f),  skip_blank_lines=True)\n",
    "    file['University'] = f.split('.csv')[0]\n",
    "    try:\n",
    "        dfOriginal = dfOriginal.append(file, ignore_index=True)\n",
    "    except IndexError:\n",
    "        dfOriginal = file\n",
    "\n",
    "dfOriginal = dfOriginal.dropna()"
   ]
  },
  {
   "cell_type": "code",
   "execution_count": 3,
   "metadata": {},
   "outputs": [
    {
     "data": {
      "text/plain": [
       "Index(['Topic', 'Topic Number', 'МФТИ', 'НГУ', 'СПбГУ', 'ТПУ', 'РГУ', 'СПбПУ',\n",
       "       'ИТМО', 'ТюмГУ', 'ТИУ', 'УГНТУ', 'Сколково'],\n",
       "      dtype='object')"
      ]
     },
     "execution_count": 3,
     "metadata": {},
     "output_type": "execute_result"
    }
   ],
   "source": [
    "geo = pd.read_csv('./geo.csv', sep=';', skip_blank_lines=True).dropna()\n",
    "\n",
    "geo = geo.rename(columns={\n",
    "    \"Moscow Institute of Physics and Technology\": \"МФТИ\",\n",
    "    \"Novosibirsk State University\": \"НГУ\",\n",
    "    \"St. Petersburg State University\": \"СПбГУ\",\n",
    "    \"Tomsk Polytechnic University\": \"ТПУ\",\n",
    "    \"I.M. Gubkin Russian State University of Oil and Gas\": \"РГУ\",\n",
    "    \"Peter the Great St. Petersburg Polytechnic University\": \"СПбПУ\",\n",
    "    \"St. Petersburg National Research University of Information Technologies, Mechanics and Optics (ITMO)\": \"ИТМО\",\n",
    "    \"Tyumen State University\": \"ТюмГУ\",\n",
    "    \"Tyumen State Oil and Gas University\": \"ТИУ\",\n",
    "    \"Ufa State Petroleum Technological University\": \"УГНТУ\",\n",
    "    \"Skolkovo Institute of Science and Technology\": \"Сколково\"\n",
    "})\n",
    "geo.columns"
   ]
  },
  {
   "cell_type": "code",
   "execution_count": 4,
   "metadata": {},
   "outputs": [],
   "source": [
    "geo['Topic'] = geo['Topic'].apply(lambda t: t.replace('; ', ','))"
   ]
  },
  {
   "cell_type": "code",
   "execution_count": 5,
   "metadata": {},
   "outputs": [],
   "source": [
    "#geoTopics = np.array([t.replace('; ', ',') for t in np.array(geo['Topic'])[:-1]])"
   ]
  },
  {
   "cell_type": "code",
   "execution_count": 6,
   "metadata": {},
   "outputs": [],
   "source": [
    "dfGeo = dfOriginal[dfOriginal['Topic name'].isin(np.array(geo['Topic']))].reset_index()"
   ]
  },
  {
   "cell_type": "code",
   "execution_count": 7,
   "metadata": {},
   "outputs": [],
   "source": [
    "def findCell(x):\n",
    "    row = geo[geo['Topic'] == x['Topic name']]\n",
    "    if x['University'] in row:\n",
    "        return row[x['University']].iloc[0]\n",
    "    return 0\n",
    "\n",
    "dfGeo['score'] = dfGeo.apply(findCell, axis=1)"
   ]
  },
  {
   "cell_type": "code",
   "execution_count": 8,
   "metadata": {},
   "outputs": [
    {
     "data": {
      "text/html": [
       "<div>\n",
       "<style scoped>\n",
       "    .dataframe tbody tr th:only-of-type {\n",
       "        vertical-align: middle;\n",
       "    }\n",
       "\n",
       "    .dataframe tbody tr th {\n",
       "        vertical-align: top;\n",
       "    }\n",
       "\n",
       "    .dataframe thead th {\n",
       "        text-align: right;\n",
       "    }\n",
       "</style>\n",
       "<table border=\"1\" class=\"dataframe\">\n",
       "  <thead>\n",
       "    <tr style=\"text-align: right;\">\n",
       "      <th></th>\n",
       "      <th>index</th>\n",
       "      <th>Title</th>\n",
       "      <th>Authors</th>\n",
       "      <th>Number of Authors</th>\n",
       "      <th>Scopus Author Ids</th>\n",
       "      <th>Year</th>\n",
       "      <th>Scopus Source title</th>\n",
       "      <th>Field-Weighted View Impact</th>\n",
       "      <th>Views</th>\n",
       "      <th>Citations</th>\n",
       "      <th>...</th>\n",
       "      <th>All Science Journal Classification (ASJC) code</th>\n",
       "      <th>All Science Journal Classification (ASJC) field name</th>\n",
       "      <th>Topic Cluster name</th>\n",
       "      <th>Topic Cluster number</th>\n",
       "      <th>Topic name</th>\n",
       "      <th>Topic number</th>\n",
       "      <th>Topic Cluster Prominence Percentile</th>\n",
       "      <th>Topic Prominence Percentile</th>\n",
       "      <th>University</th>\n",
       "      <th>score</th>\n",
       "    </tr>\n",
       "  </thead>\n",
       "  <tbody>\n",
       "    <tr>\n",
       "      <th>269</th>\n",
       "      <td>22750</td>\n",
       "      <td>Nonlinear filtering for map-aided navigation. ...</td>\n",
       "      <td>Stepanov, O.A.| Toropov, A.B.</td>\n",
       "      <td>2</td>\n",
       "      <td>56269618300| 37014144500</td>\n",
       "      <td>2015</td>\n",
       "      <td>Gyroscopy and Navigation</td>\n",
       "      <td>1.92</td>\n",
       "      <td>46</td>\n",
       "      <td>29</td>\n",
       "      <td>...</td>\n",
       "      <td>1700| 2207| 2208</td>\n",
       "      <td>General Computer Science| Control and Systems ...</td>\n",
       "      <td>GRACE,Gravitation,Geodetic Satellites</td>\n",
       "      <td>797</td>\n",
       "      <td>Gravity Gradiometers,Strapdown Inertial Naviga...</td>\n",
       "      <td>26910</td>\n",
       "      <td>51.874</td>\n",
       "      <td>74.474</td>\n",
       "      <td>ИТМО</td>\n",
       "      <td>0.164230</td>\n",
       "    </tr>\n",
       "    <tr>\n",
       "      <th>270</th>\n",
       "      <td>22901</td>\n",
       "      <td>Nonlinear filtering for map-aided navigation P...</td>\n",
       "      <td>Stepanov, O.A.| Toropov, A.B.</td>\n",
       "      <td>2</td>\n",
       "      <td>56269618300| 37014144500</td>\n",
       "      <td>2016</td>\n",
       "      <td>Gyroscopy and Navigation</td>\n",
       "      <td>1.72</td>\n",
       "      <td>33</td>\n",
       "      <td>24</td>\n",
       "      <td>...</td>\n",
       "      <td>1700| 2207| 2208</td>\n",
       "      <td>General Computer Science| Control and Systems ...</td>\n",
       "      <td>GRACE,Gravitation,Geodetic Satellites</td>\n",
       "      <td>797</td>\n",
       "      <td>Gravity Gradiometers,Strapdown Inertial Naviga...</td>\n",
       "      <td>26910</td>\n",
       "      <td>51.874</td>\n",
       "      <td>74.474</td>\n",
       "      <td>ИТМО</td>\n",
       "      <td>0.164230</td>\n",
       "    </tr>\n",
       "    <tr>\n",
       "      <th>271</th>\n",
       "      <td>23513</td>\n",
       "      <td>Comparative Energy Modeling of Multiwalled Mg3...</td>\n",
       "      <td>Krasilin, A.A.| Nevedomsky, V.N.| Gusarov, V.V.</td>\n",
       "      <td>3</td>\n",
       "      <td>53164175300| 25031682400| 7005239891</td>\n",
       "      <td>2017</td>\n",
       "      <td>Journal of Physical Chemistry C</td>\n",
       "      <td>1.46</td>\n",
       "      <td>37</td>\n",
       "      <td>15</td>\n",
       "      <td>...</td>\n",
       "      <td>1606| 2100| 2504| 2508</td>\n",
       "      <td>Physical and Theoretical Chemistry| General En...</td>\n",
       "      <td>Kaolinite,Clay Minerals,Nanotubes</td>\n",
       "      <td>815</td>\n",
       "      <td>Serpentine Asbestos,Cronstedtite,Lizardite</td>\n",
       "      <td>20795</td>\n",
       "      <td>64.993</td>\n",
       "      <td>73.02</td>\n",
       "      <td>ИТМО</td>\n",
       "      <td>0.046205</td>\n",
       "    </tr>\n",
       "    <tr>\n",
       "      <th>272</th>\n",
       "      <td>23592</td>\n",
       "      <td>A modern software system of a mobile Chekan-AM...</td>\n",
       "      <td>Krasnov, A.A.| Sokolov, A.V.</td>\n",
       "      <td>2</td>\n",
       "      <td>46761231500| 56178447300</td>\n",
       "      <td>2015</td>\n",
       "      <td>Gyroscopy and Navigation</td>\n",
       "      <td>0.82</td>\n",
       "      <td>16</td>\n",
       "      <td>14</td>\n",
       "      <td>...</td>\n",
       "      <td>1700| 2207| 2208</td>\n",
       "      <td>General Computer Science| Control and Systems ...</td>\n",
       "      <td>GRACE,Gravitation,Geodetic Satellites</td>\n",
       "      <td>797</td>\n",
       "      <td>Gravity Gradiometers,Strapdown Inertial Naviga...</td>\n",
       "      <td>26910</td>\n",
       "      <td>51.874</td>\n",
       "      <td>74.474</td>\n",
       "      <td>ИТМО</td>\n",
       "      <td>0.164230</td>\n",
       "    </tr>\n",
       "    <tr>\n",
       "      <th>273</th>\n",
       "      <td>23814</td>\n",
       "      <td>A new air-sea gravimeter: Development and test...</td>\n",
       "      <td>Peshekhonov, V.G.| Sokolov, A.V.| Elinson, L.S...</td>\n",
       "      <td>4</td>\n",
       "      <td>57191853945| 56178447300| 46761134400| 4676123...</td>\n",
       "      <td>2015</td>\n",
       "      <td>22nd Saint Petersburg International Conference...</td>\n",
       "      <td>3.36</td>\n",
       "      <td>31</td>\n",
       "      <td>12</td>\n",
       "      <td>...</td>\n",
       "      <td>1705| 1710| 1711| 2208</td>\n",
       "      <td>Computer Networks and Communications| Informat...</td>\n",
       "      <td>GRACE,Gravitation,Geodetic Satellites</td>\n",
       "      <td>797</td>\n",
       "      <td>Gravity Gradiometers,Strapdown Inertial Naviga...</td>\n",
       "      <td>26910</td>\n",
       "      <td>51.874</td>\n",
       "      <td>74.474</td>\n",
       "      <td>ИТМО</td>\n",
       "      <td>0.164230</td>\n",
       "    </tr>\n",
       "    <tr>\n",
       "      <th>...</th>\n",
       "      <td>...</td>\n",
       "      <td>...</td>\n",
       "      <td>...</td>\n",
       "      <td>...</td>\n",
       "      <td>...</td>\n",
       "      <td>...</td>\n",
       "      <td>...</td>\n",
       "      <td>...</td>\n",
       "      <td>...</td>\n",
       "      <td>...</td>\n",
       "      <td>...</td>\n",
       "      <td>...</td>\n",
       "      <td>...</td>\n",
       "      <td>...</td>\n",
       "      <td>...</td>\n",
       "      <td>...</td>\n",
       "      <td>...</td>\n",
       "      <td>...</td>\n",
       "      <td>...</td>\n",
       "      <td>...</td>\n",
       "      <td>...</td>\n",
       "    </tr>\n",
       "    <tr>\n",
       "      <th>6599</th>\n",
       "      <td>274091</td>\n",
       "      <td>On the possibility of inversion in borehole se...</td>\n",
       "      <td>Lensky, V.A.| Zhuzhel, A.S.| Umetbaev, W.G.</td>\n",
       "      <td>3</td>\n",
       "      <td>56632193800| 57204009728| 57210207641</td>\n",
       "      <td>2019</td>\n",
       "      <td>Neftyanoe Khozyaystvo - Oil Industry</td>\n",
       "      <td>0.52</td>\n",
       "      <td>11</td>\n",
       "      <td>0</td>\n",
       "      <td>...</td>\n",
       "      <td>2102| 2103</td>\n",
       "      <td>Energy Engineering and Power Technology| Fuel ...</td>\n",
       "      <td>Seismic Waves,Seismology,Seismic Data</td>\n",
       "      <td>371</td>\n",
       "      <td>Isotropic Media,P Wave,Azimuth</td>\n",
       "      <td>2560</td>\n",
       "      <td>59.438</td>\n",
       "      <td>87.548</td>\n",
       "      <td>УГНТУ</td>\n",
       "      <td>0.001928</td>\n",
       "    </tr>\n",
       "    <tr>\n",
       "      <th>6600</th>\n",
       "      <td>274105</td>\n",
       "      <td>On the use of geophysical research data aiming...</td>\n",
       "      <td>Mukhametshin, V.V.| Kuleshova, L.S.</td>\n",
       "      <td>2</td>\n",
       "      <td>57203543434| 49963947200</td>\n",
       "      <td>2020</td>\n",
       "      <td>IOP Conference Series: Materials Science and E...</td>\n",
       "      <td>0.20</td>\n",
       "      <td>1</td>\n",
       "      <td>0</td>\n",
       "      <td>...</td>\n",
       "      <td>2200| 2500</td>\n",
       "      <td>General Engineering| General Materials Science</td>\n",
       "      <td>Liquefied Natural Gas,Gases,Liquefaction</td>\n",
       "      <td>1460</td>\n",
       "      <td>Oil Recovery,Oil Well Flooding,Horizontal Wells</td>\n",
       "      <td>91864</td>\n",
       "      <td>21.821</td>\n",
       "      <td>80.108</td>\n",
       "      <td>УГНТУ</td>\n",
       "      <td>0.633075</td>\n",
       "    </tr>\n",
       "    <tr>\n",
       "      <th>6601</th>\n",
       "      <td>274110</td>\n",
       "      <td>Atomic-absorption determination of weight conc...</td>\n",
       "      <td>Gilyazeva, L.R.| Murinov, K.Yu.| Sultanov, Sh.Kh.</td>\n",
       "      <td>3</td>\n",
       "      <td>57200554927| 56615308400| 23111853300</td>\n",
       "      <td>2018</td>\n",
       "      <td>Neftyanoe Khozyaystvo - Oil Industry</td>\n",
       "      <td>0.74</td>\n",
       "      <td>17</td>\n",
       "      <td>0</td>\n",
       "      <td>...</td>\n",
       "      <td>2102| 2103</td>\n",
       "      <td>Energy Engineering and Power Technology| Fuel ...</td>\n",
       "      <td>Aquifers,Groundwater Resources,Groundwater Flow</td>\n",
       "      <td>282</td>\n",
       "      <td>Hydraulic Head,Groundwater Flow,Stagnation Point</td>\n",
       "      <td>38409</td>\n",
       "      <td>77.778</td>\n",
       "      <td>69.766</td>\n",
       "      <td>УГНТУ</td>\n",
       "      <td>0.004950</td>\n",
       "    </tr>\n",
       "    <tr>\n",
       "      <th>6602</th>\n",
       "      <td>274123</td>\n",
       "      <td>Allocation of facies zones in deposits of the ...</td>\n",
       "      <td>Aleksandrov, V.M.| Ponomarev, A.A.| Gaysin, E....</td>\n",
       "      <td>6</td>\n",
       "      <td>57191835860| 57191844441| 57200568068| 5719548...</td>\n",
       "      <td>2017</td>\n",
       "      <td>Journal of Industrial Pollution Control</td>\n",
       "      <td>1.46</td>\n",
       "      <td>35</td>\n",
       "      <td>0</td>\n",
       "      <td>...</td>\n",
       "      <td>1507| 1902| 2212| 2310| 2312</td>\n",
       "      <td>Fluid Flow and Transfer Processes| Atmospheric...</td>\n",
       "      <td>Hydrocarbons,Deposits,Basin</td>\n",
       "      <td>1407</td>\n",
       "      <td>Western Siberia,Catagenesis,Jurassic</td>\n",
       "      <td>38138</td>\n",
       "      <td>12.784</td>\n",
       "      <td>79.418</td>\n",
       "      <td>УГНТУ</td>\n",
       "      <td>0.011363</td>\n",
       "    </tr>\n",
       "    <tr>\n",
       "      <th>6603</th>\n",
       "      <td>274141</td>\n",
       "      <td>On the development of an experimental design a...</td>\n",
       "      <td>Zaynagalina, L.Z.</td>\n",
       "      <td>1</td>\n",
       "      <td>57201781056</td>\n",
       "      <td>2020</td>\n",
       "      <td>IOP Conference Series: Materials Science and E...</td>\n",
       "      <td>0.00</td>\n",
       "      <td>0</td>\n",
       "      <td>0</td>\n",
       "      <td>...</td>\n",
       "      <td>2200| 2500</td>\n",
       "      <td>General Engineering| General Materials Science</td>\n",
       "      <td>Liquefied Natural Gas,Gases,Liquefaction</td>\n",
       "      <td>1460</td>\n",
       "      <td>Oil Recovery,Oil Well Flooding,Horizontal Wells</td>\n",
       "      <td>91864</td>\n",
       "      <td>21.821</td>\n",
       "      <td>80.108</td>\n",
       "      <td>УГНТУ</td>\n",
       "      <td>0.633075</td>\n",
       "    </tr>\n",
       "  </tbody>\n",
       "</table>\n",
       "<p>3449 rows × 32 columns</p>\n",
       "</div>"
      ],
      "text/plain": [
       "       index                                              Title  \\\n",
       "269    22750  Nonlinear filtering for map-aided navigation. ...   \n",
       "270    22901  Nonlinear filtering for map-aided navigation P...   \n",
       "271    23513  Comparative Energy Modeling of Multiwalled Mg3...   \n",
       "272    23592  A modern software system of a mobile Chekan-AM...   \n",
       "273    23814  A new air-sea gravimeter: Development and test...   \n",
       "...      ...                                                ...   \n",
       "6599  274091  On the possibility of inversion in borehole se...   \n",
       "6600  274105  On the use of geophysical research data aiming...   \n",
       "6601  274110  Atomic-absorption determination of weight conc...   \n",
       "6602  274123  Allocation of facies zones in deposits of the ...   \n",
       "6603  274141  On the development of an experimental design a...   \n",
       "\n",
       "                                                Authors  Number of Authors  \\\n",
       "269                       Stepanov, O.A.| Toropov, A.B.                  2   \n",
       "270                       Stepanov, O.A.| Toropov, A.B.                  2   \n",
       "271     Krasilin, A.A.| Nevedomsky, V.N.| Gusarov, V.V.                  3   \n",
       "272                        Krasnov, A.A.| Sokolov, A.V.                  2   \n",
       "273   Peshekhonov, V.G.| Sokolov, A.V.| Elinson, L.S...                  4   \n",
       "...                                                 ...                ...   \n",
       "6599        Lensky, V.A.| Zhuzhel, A.S.| Umetbaev, W.G.                  3   \n",
       "6600                Mukhametshin, V.V.| Kuleshova, L.S.                  2   \n",
       "6601  Gilyazeva, L.R.| Murinov, K.Yu.| Sultanov, Sh.Kh.                  3   \n",
       "6602  Aleksandrov, V.M.| Ponomarev, A.A.| Gaysin, E....                  6   \n",
       "6603                                  Zaynagalina, L.Z.                  1   \n",
       "\n",
       "                                      Scopus Author Ids  Year  \\\n",
       "269                            56269618300| 37014144500  2015   \n",
       "270                            56269618300| 37014144500  2016   \n",
       "271                53164175300| 25031682400| 7005239891  2017   \n",
       "272                            46761231500| 56178447300  2015   \n",
       "273   57191853945| 56178447300| 46761134400| 4676123...  2015   \n",
       "...                                                 ...   ...   \n",
       "6599              56632193800| 57204009728| 57210207641  2019   \n",
       "6600                           57203543434| 49963947200  2020   \n",
       "6601              57200554927| 56615308400| 23111853300  2018   \n",
       "6602  57191835860| 57191844441| 57200568068| 5719548...  2017   \n",
       "6603                                        57201781056  2020   \n",
       "\n",
       "                                    Scopus Source title  \\\n",
       "269                            Gyroscopy and Navigation   \n",
       "270                            Gyroscopy and Navigation   \n",
       "271                     Journal of Physical Chemistry C   \n",
       "272                            Gyroscopy and Navigation   \n",
       "273   22nd Saint Petersburg International Conference...   \n",
       "...                                                 ...   \n",
       "6599               Neftyanoe Khozyaystvo - Oil Industry   \n",
       "6600  IOP Conference Series: Materials Science and E...   \n",
       "6601               Neftyanoe Khozyaystvo - Oil Industry   \n",
       "6602            Journal of Industrial Pollution Control   \n",
       "6603  IOP Conference Series: Materials Science and E...   \n",
       "\n",
       "      Field-Weighted View Impact  Views  Citations  ...  \\\n",
       "269                         1.92     46         29  ...   \n",
       "270                         1.72     33         24  ...   \n",
       "271                         1.46     37         15  ...   \n",
       "272                         0.82     16         14  ...   \n",
       "273                         3.36     31         12  ...   \n",
       "...                          ...    ...        ...  ...   \n",
       "6599                        0.52     11          0  ...   \n",
       "6600                        0.20      1          0  ...   \n",
       "6601                        0.74     17          0  ...   \n",
       "6602                        1.46     35          0  ...   \n",
       "6603                        0.00      0          0  ...   \n",
       "\n",
       "      All Science Journal Classification (ASJC) code  \\\n",
       "269                                 1700| 2207| 2208   \n",
       "270                                 1700| 2207| 2208   \n",
       "271                           1606| 2100| 2504| 2508   \n",
       "272                                 1700| 2207| 2208   \n",
       "273                           1705| 1710| 1711| 2208   \n",
       "...                                              ...   \n",
       "6599                                      2102| 2103   \n",
       "6600                                      2200| 2500   \n",
       "6601                                      2102| 2103   \n",
       "6602                    1507| 1902| 2212| 2310| 2312   \n",
       "6603                                      2200| 2500   \n",
       "\n",
       "      All Science Journal Classification (ASJC) field name  \\\n",
       "269   General Computer Science| Control and Systems ...      \n",
       "270   General Computer Science| Control and Systems ...      \n",
       "271   Physical and Theoretical Chemistry| General En...      \n",
       "272   General Computer Science| Control and Systems ...      \n",
       "273   Computer Networks and Communications| Informat...      \n",
       "...                                                 ...      \n",
       "6599  Energy Engineering and Power Technology| Fuel ...      \n",
       "6600     General Engineering| General Materials Science      \n",
       "6601  Energy Engineering and Power Technology| Fuel ...      \n",
       "6602  Fluid Flow and Transfer Processes| Atmospheric...      \n",
       "6603     General Engineering| General Materials Science      \n",
       "\n",
       "                                   Topic Cluster name Topic Cluster number  \\\n",
       "269             GRACE,Gravitation,Geodetic Satellites                  797   \n",
       "270             GRACE,Gravitation,Geodetic Satellites                  797   \n",
       "271                 Kaolinite,Clay Minerals,Nanotubes                  815   \n",
       "272             GRACE,Gravitation,Geodetic Satellites                  797   \n",
       "273             GRACE,Gravitation,Geodetic Satellites                  797   \n",
       "...                                               ...                  ...   \n",
       "6599            Seismic Waves,Seismology,Seismic Data                  371   \n",
       "6600         Liquefied Natural Gas,Gases,Liquefaction                 1460   \n",
       "6601  Aquifers,Groundwater Resources,Groundwater Flow                  282   \n",
       "6602                      Hydrocarbons,Deposits,Basin                 1407   \n",
       "6603         Liquefied Natural Gas,Gases,Liquefaction                 1460   \n",
       "\n",
       "                                             Topic name Topic number  \\\n",
       "269   Gravity Gradiometers,Strapdown Inertial Naviga...        26910   \n",
       "270   Gravity Gradiometers,Strapdown Inertial Naviga...        26910   \n",
       "271          Serpentine Asbestos,Cronstedtite,Lizardite        20795   \n",
       "272   Gravity Gradiometers,Strapdown Inertial Naviga...        26910   \n",
       "273   Gravity Gradiometers,Strapdown Inertial Naviga...        26910   \n",
       "...                                                 ...          ...   \n",
       "6599                     Isotropic Media,P Wave,Azimuth         2560   \n",
       "6600    Oil Recovery,Oil Well Flooding,Horizontal Wells        91864   \n",
       "6601   Hydraulic Head,Groundwater Flow,Stagnation Point        38409   \n",
       "6602               Western Siberia,Catagenesis,Jurassic        38138   \n",
       "6603    Oil Recovery,Oil Well Flooding,Horizontal Wells        91864   \n",
       "\n",
       "     Topic Cluster Prominence Percentile Topic Prominence Percentile  \\\n",
       "269                               51.874                      74.474   \n",
       "270                               51.874                      74.474   \n",
       "271                               64.993                       73.02   \n",
       "272                               51.874                      74.474   \n",
       "273                               51.874                      74.474   \n",
       "...                                  ...                         ...   \n",
       "6599                              59.438                      87.548   \n",
       "6600                              21.821                      80.108   \n",
       "6601                              77.778                      69.766   \n",
       "6602                              12.784                      79.418   \n",
       "6603                              21.821                      80.108   \n",
       "\n",
       "     University     score  \n",
       "269        ИТМО  0.164230  \n",
       "270        ИТМО  0.164230  \n",
       "271        ИТМО  0.046205  \n",
       "272        ИТМО  0.164230  \n",
       "273        ИТМО  0.164230  \n",
       "...         ...       ...  \n",
       "6599      УГНТУ  0.001928  \n",
       "6600      УГНТУ  0.633075  \n",
       "6601      УГНТУ  0.004950  \n",
       "6602      УГНТУ  0.011363  \n",
       "6603      УГНТУ  0.633075  \n",
       "\n",
       "[3449 rows x 32 columns]"
      ]
     },
     "execution_count": 8,
     "metadata": {},
     "output_type": "execute_result"
    }
   ],
   "source": [
    "dfGeo[dfGeo['score'] > 0]"
   ]
  },
  {
   "cell_type": "code",
   "execution_count": 9,
   "metadata": {},
   "outputs": [],
   "source": [
    "df=dfGeo"
   ]
  },
  {
   "cell_type": "code",
   "execution_count": 10,
   "metadata": {},
   "outputs": [
    {
     "name": "stdout",
     "output_type": "stream",
     "text": [
      "<class 'pandas.core.frame.DataFrame'>\n",
      "RangeIndex: 6851 entries, 0 to 6850\n",
      "Data columns (total 32 columns):\n",
      " #   Column                                                              Non-Null Count  Dtype  \n",
      "---  ------                                                              --------------  -----  \n",
      " 0   index                                                               6851 non-null   int64  \n",
      " 1   Title                                                               6851 non-null   object \n",
      " 2   Authors                                                             6851 non-null   object \n",
      " 3   Number of Authors                                                   6851 non-null   int64  \n",
      " 4   Scopus Author Ids                                                   6851 non-null   object \n",
      " 5   Year                                                                6851 non-null   int64  \n",
      " 6   Scopus Source title                                                 6851 non-null   object \n",
      " 7   Field-Weighted View Impact                                          6851 non-null   float64\n",
      " 8   Views                                                               6851 non-null   int64  \n",
      " 9   Citations                                                           6851 non-null   int64  \n",
      " 10  Field-Weighted Citation Impact                                      6851 non-null   float64\n",
      " 11  Outputs in Top Citation Percentiles, per percentile                 6851 non-null   int64  \n",
      " 12  Field-Weighted Outputs in Top Citation Percentiles, per percentile  6851 non-null   int64  \n",
      " 13  Reference                                                           6851 non-null   object \n",
      " 14  Abstract                                                            6851 non-null   object \n",
      " 15  DOI                                                                 6851 non-null   object \n",
      " 16  Publication type                                                    6851 non-null   object \n",
      " 17  EID                                                                 6851 non-null   object \n",
      " 18  Institutions                                                        6851 non-null   object \n",
      " 19  Scopus Affiliation IDs                                              6851 non-null   object \n",
      " 20  Scopus Affiliation names                                            6851 non-null   object \n",
      " 21  Country/Region                                                      6851 non-null   object \n",
      " 22  All Science Journal Classification (ASJC) code                      6851 non-null   object \n",
      " 23  All Science Journal Classification (ASJC) field name                6851 non-null   object \n",
      " 24  Topic Cluster name                                                  6851 non-null   object \n",
      " 25  Topic Cluster number                                                6851 non-null   object \n",
      " 26  Topic name                                                          6851 non-null   object \n",
      " 27  Topic number                                                        6851 non-null   object \n",
      " 28  Topic Cluster Prominence Percentile                                 6851 non-null   object \n",
      " 29  Topic Prominence Percentile                                         6851 non-null   object \n",
      " 30  University                                                          6851 non-null   object \n",
      " 31  score                                                               6851 non-null   float64\n",
      "dtypes: float64(3), int64(7), object(22)\n",
      "memory usage: 1.7+ MB\n"
     ]
    }
   ],
   "source": [
    "dfGeo.info()"
   ]
  },
  {
   "cell_type": "code",
   "execution_count": 11,
   "metadata": {
    "scrolled": true
   },
   "outputs": [
    {
     "data": {
      "text/plain": [
       "(6851, 32)"
      ]
     },
     "execution_count": 11,
     "metadata": {},
     "output_type": "execute_result"
    }
   ],
   "source": [
    "df.shape"
   ]
  },
  {
   "cell_type": "code",
   "execution_count": 12,
   "metadata": {},
   "outputs": [
    {
     "data": {
      "text/plain": [
       "pandas.core.frame.DataFrame"
      ]
     },
     "execution_count": 12,
     "metadata": {},
     "output_type": "execute_result"
    }
   ],
   "source": [
    "type(df)"
   ]
  },
  {
   "cell_type": "code",
   "execution_count": 13,
   "metadata": {},
   "outputs": [
    {
     "data": {
      "text/plain": [
       "index                                                                 0\n",
       "Title                                                                 0\n",
       "Authors                                                               0\n",
       "Number of Authors                                                     0\n",
       "Scopus Author Ids                                                     0\n",
       "Year                                                                  0\n",
       "Scopus Source title                                                   0\n",
       "Field-Weighted View Impact                                            0\n",
       "Views                                                                 0\n",
       "Citations                                                             0\n",
       "Field-Weighted Citation Impact                                        0\n",
       "Outputs in Top Citation Percentiles, per percentile                   0\n",
       "Field-Weighted Outputs in Top Citation Percentiles, per percentile    0\n",
       "Reference                                                             0\n",
       "Abstract                                                              0\n",
       "DOI                                                                   0\n",
       "Publication type                                                      0\n",
       "EID                                                                   0\n",
       "Institutions                                                          0\n",
       "Scopus Affiliation IDs                                                0\n",
       "Scopus Affiliation names                                              0\n",
       "Country/Region                                                        0\n",
       "All Science Journal Classification (ASJC) code                        0\n",
       "All Science Journal Classification (ASJC) field name                  0\n",
       "Topic Cluster name                                                    0\n",
       "Topic Cluster number                                                  0\n",
       "Topic name                                                            0\n",
       "Topic number                                                          0\n",
       "Topic Cluster Prominence Percentile                                   0\n",
       "Topic Prominence Percentile                                           0\n",
       "University                                                            0\n",
       "score                                                                 0\n",
       "dtype: int64"
      ]
     },
     "execution_count": 13,
     "metadata": {},
     "output_type": "execute_result"
    }
   ],
   "source": [
    "df.isnull().sum()"
   ]
  },
  {
   "cell_type": "code",
   "execution_count": 14,
   "metadata": {
    "scrolled": true
   },
   "outputs": [
    {
     "data": {
      "text/plain": [
       "array(['Article', 'Conference Paper', 'Review', 'Chapter', 'Letter',\n",
       "       'Editorial', 'Book', 'Note', 'Abstract Report', 'Data Paper',\n",
       "       'Short Survey', 'Article in Press'], dtype=object)"
      ]
     },
     "execution_count": 14,
     "metadata": {},
     "output_type": "execute_result"
    }
   ],
   "source": [
    "df['Publication type'].unique()"
   ]
  },
  {
   "cell_type": "code",
   "execution_count": 15,
   "metadata": {},
   "outputs": [
    {
     "data": {
      "image/png": "[encoded data removed]",
      "text/plain": [
       "<Figure size 432x288 with 1 Axes>"
      ]
     },
     "metadata": {
      "needs_background": "light"
     },
     "output_type": "display_data"
    }
   ],
   "source": [
    "df.score.hist();"
   ]
  },
  {
   "cell_type": "code",
   "execution_count": 16,
   "metadata": {},
   "outputs": [],
   "source": [
    "new_data=df.drop(['Title', 'Authors', 'Scopus Author Ids', 'Scopus Source title', 'Reference', 'Abstract', 'DOI', 'EID', 'Scopus Affiliation IDs', 'Scopus Affiliation names', 'Country/Region', 'All Science Journal Classification (ASJC) code', 'All Science Journal Classification (ASJC) field name', 'Topic Cluster name', 'Topic Cluster number', 'Topic name', 'Topic number', 'University',  'Outputs in Top Citation Percentiles, per percentile', 'Institutions'], axis = 1)"
   ]
  },
  {
   "cell_type": "code",
   "execution_count": 17,
   "metadata": {},
   "outputs": [
    {
     "data": {
      "text/html": [
       "<div>\n",
       "<style scoped>\n",
       "    .dataframe tbody tr th:only-of-type {\n",
       "        vertical-align: middle;\n",
       "    }\n",
       "\n",
       "    .dataframe tbody tr th {\n",
       "        vertical-align: top;\n",
       "    }\n",
       "\n",
       "    .dataframe thead th {\n",
       "        text-align: right;\n",
       "    }\n",
       "</style>\n",
       "<table border=\"1\" class=\"dataframe\">\n",
       "  <thead>\n",
       "    <tr style=\"text-align: right;\">\n",
       "      <th></th>\n",
       "      <th>index</th>\n",
       "      <th>Number of Authors</th>\n",
       "      <th>Year</th>\n",
       "      <th>Field-Weighted View Impact</th>\n",
       "      <th>Views</th>\n",
       "      <th>Citations</th>\n",
       "      <th>Field-Weighted Citation Impact</th>\n",
       "      <th>Field-Weighted Outputs in Top Citation Percentiles, per percentile</th>\n",
       "      <th>Publication type</th>\n",
       "      <th>Topic Cluster Prominence Percentile</th>\n",
       "      <th>Topic Prominence Percentile</th>\n",
       "      <th>score</th>\n",
       "    </tr>\n",
       "  </thead>\n",
       "  <tbody>\n",
       "    <tr>\n",
       "      <th>0</th>\n",
       "      <td>96</td>\n",
       "      <td>5</td>\n",
       "      <td>2018</td>\n",
       "      <td>1.55</td>\n",
       "      <td>26</td>\n",
       "      <td>11</td>\n",
       "      <td>1.76</td>\n",
       "      <td>16</td>\n",
       "      <td>Article</td>\n",
       "      <td>96.519</td>\n",
       "      <td>79.242</td>\n",
       "      <td>0.0</td>\n",
       "    </tr>\n",
       "    <tr>\n",
       "      <th>1</th>\n",
       "      <td>134</td>\n",
       "      <td>2</td>\n",
       "      <td>2018</td>\n",
       "      <td>1.59</td>\n",
       "      <td>28</td>\n",
       "      <td>8</td>\n",
       "      <td>1.37</td>\n",
       "      <td>22</td>\n",
       "      <td>Article</td>\n",
       "      <td>69.545</td>\n",
       "      <td>87.089</td>\n",
       "      <td>0.0</td>\n",
       "    </tr>\n",
       "    <tr>\n",
       "      <th>2</th>\n",
       "      <td>466</td>\n",
       "      <td>2</td>\n",
       "      <td>2017</td>\n",
       "      <td>0.70</td>\n",
       "      <td>15</td>\n",
       "      <td>3</td>\n",
       "      <td>0.43</td>\n",
       "      <td>51</td>\n",
       "      <td>Article</td>\n",
       "      <td>80.79</td>\n",
       "      <td>12.148</td>\n",
       "      <td>0.0</td>\n",
       "    </tr>\n",
       "    <tr>\n",
       "      <th>3</th>\n",
       "      <td>575</td>\n",
       "      <td>2</td>\n",
       "      <td>2019</td>\n",
       "      <td>1.59</td>\n",
       "      <td>32</td>\n",
       "      <td>2</td>\n",
       "      <td>0.51</td>\n",
       "      <td>44</td>\n",
       "      <td>Article</td>\n",
       "      <td>69.545</td>\n",
       "      <td>87.089</td>\n",
       "      <td>0.0</td>\n",
       "    </tr>\n",
       "    <tr>\n",
       "      <th>4</th>\n",
       "      <td>615</td>\n",
       "      <td>4</td>\n",
       "      <td>2017</td>\n",
       "      <td>0.93</td>\n",
       "      <td>20</td>\n",
       "      <td>2</td>\n",
       "      <td>0.29</td>\n",
       "      <td>59</td>\n",
       "      <td>Article</td>\n",
       "      <td>69.545</td>\n",
       "      <td>87.089</td>\n",
       "      <td>0.0</td>\n",
       "    </tr>\n",
       "  </tbody>\n",
       "</table>\n",
       "</div>"
      ],
      "text/plain": [
       "   index  Number of Authors  Year  Field-Weighted View Impact  Views  \\\n",
       "0     96                  5  2018                        1.55     26   \n",
       "1    134                  2  2018                        1.59     28   \n",
       "2    466                  2  2017                        0.70     15   \n",
       "3    575                  2  2019                        1.59     32   \n",
       "4    615                  4  2017                        0.93     20   \n",
       "\n",
       "   Citations  Field-Weighted Citation Impact  \\\n",
       "0         11                            1.76   \n",
       "1          8                            1.37   \n",
       "2          3                            0.43   \n",
       "3          2                            0.51   \n",
       "4          2                            0.29   \n",
       "\n",
       "   Field-Weighted Outputs in Top Citation Percentiles, per percentile  \\\n",
       "0                                                 16                    \n",
       "1                                                 22                    \n",
       "2                                                 51                    \n",
       "3                                                 44                    \n",
       "4                                                 59                    \n",
       "\n",
       "  Publication type Topic Cluster Prominence Percentile  \\\n",
       "0          Article                              96.519   \n",
       "1          Article                              69.545   \n",
       "2          Article                               80.79   \n",
       "3          Article                              69.545   \n",
       "4          Article                              69.545   \n",
       "\n",
       "  Topic Prominence Percentile  score  \n",
       "0                      79.242    0.0  \n",
       "1                      87.089    0.0  \n",
       "2                      12.148    0.0  \n",
       "3                      87.089    0.0  \n",
       "4                      87.089    0.0  "
      ]
     },
     "execution_count": 17,
     "metadata": {},
     "output_type": "execute_result"
    }
   ],
   "source": [
    "new_data.head()"
   ]
  },
  {
   "cell_type": "code",
   "execution_count": 18,
   "metadata": {},
   "outputs": [
    {
     "data": {
      "text/plain": [
       "<matplotlib.axes._subplots.AxesSubplot at 0x21419568e20>"
      ]
     },
     "execution_count": 18,
     "metadata": {},
     "output_type": "execute_result"
    },
    {
     "data": {
      "image/png": "[encoded data removed]",
      "text/plain": [
       "<Figure size 432x288 with 1 Axes>"
      ]
     },
     "metadata": {
      "needs_background": "light"
     },
     "output_type": "display_data"
    }
   ],
   "source": [
    "new_data.score.hist()"
   ]
  },
  {
   "cell_type": "code",
   "execution_count": 19,
   "metadata": {},
   "outputs": [
    {
     "name": "stdout",
     "output_type": "stream",
     "text": [
      "<class 'pandas.core.frame.DataFrame'>\n",
      "RangeIndex: 6851 entries, 0 to 6850\n",
      "Data columns (total 12 columns):\n",
      " #   Column                                                              Non-Null Count  Dtype  \n",
      "---  ------                                                              --------------  -----  \n",
      " 0   index                                                               6851 non-null   int64  \n",
      " 1   Number of Authors                                                   6851 non-null   int64  \n",
      " 2   Year                                                                6851 non-null   int64  \n",
      " 3   Field-Weighted View Impact                                          6851 non-null   float64\n",
      " 4   Views                                                               6851 non-null   int64  \n",
      " 5   Citations                                                           6851 non-null   int64  \n",
      " 6   Field-Weighted Citation Impact                                      6851 non-null   float64\n",
      " 7   Field-Weighted Outputs in Top Citation Percentiles, per percentile  6851 non-null   int64  \n",
      " 8   Publication type                                                    6851 non-null   object \n",
      " 9   Topic Cluster Prominence Percentile                                 6851 non-null   object \n",
      " 10  Topic Prominence Percentile                                         6851 non-null   object \n",
      " 11  score                                                               6851 non-null   float64\n",
      "dtypes: float64(3), int64(6), object(3)\n",
      "memory usage: 642.4+ KB\n"
     ]
    }
   ],
   "source": [
    "new_data.info()"
   ]
  },
  {
   "cell_type": "code",
   "execution_count": 20,
   "metadata": {},
   "outputs": [
    {
     "data": {
      "text/plain": [
       "<matplotlib.axes._subplots.AxesSubplot at 0x21495c6dc40>"
      ]
     },
     "execution_count": 20,
     "metadata": {},
     "output_type": "execute_result"
    },
    {
     "data": {
      "image/png": "[encoded data removed]",
      "text/plain": [
       "<Figure size 864x864 with 2 Axes>"
      ]
     },
     "metadata": {},
     "output_type": "display_data"
    }
   ],
   "source": [
    "import seaborn as sns\n",
    "import matplotlib.pyplot as plt\n",
    "\n",
    "\n",
    "sns.set(font_scale=1)\n",
    "plt.subplots(figsize=(12, 12))\n",
    "sns.heatmap(new_data.corr(), square=True,\n",
    "              annot=True, fmt=\".2f\", linewidths=0.1, cmap=\"RdBu\")"
   ]
  },
  {
   "cell_type": "code",
   "execution_count": 21,
   "metadata": {},
   "outputs": [
    {
     "data": {
      "text/html": [
       "<div>\n",
       "<style scoped>\n",
       "    .dataframe tbody tr th:only-of-type {\n",
       "        vertical-align: middle;\n",
       "    }\n",
       "\n",
       "    .dataframe tbody tr th {\n",
       "        vertical-align: top;\n",
       "    }\n",
       "\n",
       "    .dataframe thead th {\n",
       "        text-align: right;\n",
       "    }\n",
       "</style>\n",
       "<table border=\"1\" class=\"dataframe\">\n",
       "  <thead>\n",
       "    <tr style=\"text-align: right;\">\n",
       "      <th></th>\n",
       "      <th>index</th>\n",
       "      <th>Number of Authors</th>\n",
       "      <th>Field-Weighted View Impact</th>\n",
       "      <th>Views</th>\n",
       "      <th>Citations</th>\n",
       "      <th>Field-Weighted Citation Impact</th>\n",
       "      <th>Field-Weighted Outputs in Top Citation Percentiles, per percentile</th>\n",
       "      <th>Topic Cluster Prominence Percentile</th>\n",
       "      <th>Topic Prominence Percentile</th>\n",
       "      <th>score</th>\n",
       "      <th>...</th>\n",
       "      <th>Publication type_Letter</th>\n",
       "      <th>Publication type_Note</th>\n",
       "      <th>Publication type_Review</th>\n",
       "      <th>Publication type_Short Survey</th>\n",
       "      <th>Year_2015</th>\n",
       "      <th>Year_2016</th>\n",
       "      <th>Year_2017</th>\n",
       "      <th>Year_2018</th>\n",
       "      <th>Year_2019</th>\n",
       "      <th>Year_2020</th>\n",
       "    </tr>\n",
       "  </thead>\n",
       "  <tbody>\n",
       "    <tr>\n",
       "      <th>0</th>\n",
       "      <td>96</td>\n",
       "      <td>5</td>\n",
       "      <td>1.55</td>\n",
       "      <td>26</td>\n",
       "      <td>11</td>\n",
       "      <td>1.76</td>\n",
       "      <td>16</td>\n",
       "      <td>96.519</td>\n",
       "      <td>79.242</td>\n",
       "      <td>0.0</td>\n",
       "      <td>...</td>\n",
       "      <td>0</td>\n",
       "      <td>0</td>\n",
       "      <td>0</td>\n",
       "      <td>0</td>\n",
       "      <td>0</td>\n",
       "      <td>0</td>\n",
       "      <td>0</td>\n",
       "      <td>1</td>\n",
       "      <td>0</td>\n",
       "      <td>0</td>\n",
       "    </tr>\n",
       "    <tr>\n",
       "      <th>1</th>\n",
       "      <td>134</td>\n",
       "      <td>2</td>\n",
       "      <td>1.59</td>\n",
       "      <td>28</td>\n",
       "      <td>8</td>\n",
       "      <td>1.37</td>\n",
       "      <td>22</td>\n",
       "      <td>69.545</td>\n",
       "      <td>87.089</td>\n",
       "      <td>0.0</td>\n",
       "      <td>...</td>\n",
       "      <td>0</td>\n",
       "      <td>0</td>\n",
       "      <td>0</td>\n",
       "      <td>0</td>\n",
       "      <td>0</td>\n",
       "      <td>0</td>\n",
       "      <td>0</td>\n",
       "      <td>1</td>\n",
       "      <td>0</td>\n",
       "      <td>0</td>\n",
       "    </tr>\n",
       "    <tr>\n",
       "      <th>2</th>\n",
       "      <td>466</td>\n",
       "      <td>2</td>\n",
       "      <td>0.70</td>\n",
       "      <td>15</td>\n",
       "      <td>3</td>\n",
       "      <td>0.43</td>\n",
       "      <td>51</td>\n",
       "      <td>80.79</td>\n",
       "      <td>12.148</td>\n",
       "      <td>0.0</td>\n",
       "      <td>...</td>\n",
       "      <td>0</td>\n",
       "      <td>0</td>\n",
       "      <td>0</td>\n",
       "      <td>0</td>\n",
       "      <td>0</td>\n",
       "      <td>0</td>\n",
       "      <td>1</td>\n",
       "      <td>0</td>\n",
       "      <td>0</td>\n",
       "      <td>0</td>\n",
       "    </tr>\n",
       "    <tr>\n",
       "      <th>3</th>\n",
       "      <td>575</td>\n",
       "      <td>2</td>\n",
       "      <td>1.59</td>\n",
       "      <td>32</td>\n",
       "      <td>2</td>\n",
       "      <td>0.51</td>\n",
       "      <td>44</td>\n",
       "      <td>69.545</td>\n",
       "      <td>87.089</td>\n",
       "      <td>0.0</td>\n",
       "      <td>...</td>\n",
       "      <td>0</td>\n",
       "      <td>0</td>\n",
       "      <td>0</td>\n",
       "      <td>0</td>\n",
       "      <td>0</td>\n",
       "      <td>0</td>\n",
       "      <td>0</td>\n",
       "      <td>0</td>\n",
       "      <td>1</td>\n",
       "      <td>0</td>\n",
       "    </tr>\n",
       "    <tr>\n",
       "      <th>4</th>\n",
       "      <td>615</td>\n",
       "      <td>4</td>\n",
       "      <td>0.93</td>\n",
       "      <td>20</td>\n",
       "      <td>2</td>\n",
       "      <td>0.29</td>\n",
       "      <td>59</td>\n",
       "      <td>69.545</td>\n",
       "      <td>87.089</td>\n",
       "      <td>0.0</td>\n",
       "      <td>...</td>\n",
       "      <td>0</td>\n",
       "      <td>0</td>\n",
       "      <td>0</td>\n",
       "      <td>0</td>\n",
       "      <td>0</td>\n",
       "      <td>0</td>\n",
       "      <td>1</td>\n",
       "      <td>0</td>\n",
       "      <td>0</td>\n",
       "      <td>0</td>\n",
       "    </tr>\n",
       "    <tr>\n",
       "      <th>...</th>\n",
       "      <td>...</td>\n",
       "      <td>...</td>\n",
       "      <td>...</td>\n",
       "      <td>...</td>\n",
       "      <td>...</td>\n",
       "      <td>...</td>\n",
       "      <td>...</td>\n",
       "      <td>...</td>\n",
       "      <td>...</td>\n",
       "      <td>...</td>\n",
       "      <td>...</td>\n",
       "      <td>...</td>\n",
       "      <td>...</td>\n",
       "      <td>...</td>\n",
       "      <td>...</td>\n",
       "      <td>...</td>\n",
       "      <td>...</td>\n",
       "      <td>...</td>\n",
       "      <td>...</td>\n",
       "      <td>...</td>\n",
       "      <td>...</td>\n",
       "    </tr>\n",
       "    <tr>\n",
       "      <th>6846</th>\n",
       "      <td>297143</td>\n",
       "      <td>3</td>\n",
       "      <td>1.74</td>\n",
       "      <td>13</td>\n",
       "      <td>0</td>\n",
       "      <td>0.00</td>\n",
       "      <td>60</td>\n",
       "      <td>87.282</td>\n",
       "      <td>95.508</td>\n",
       "      <td>0.0</td>\n",
       "      <td>...</td>\n",
       "      <td>0</td>\n",
       "      <td>0</td>\n",
       "      <td>0</td>\n",
       "      <td>0</td>\n",
       "      <td>0</td>\n",
       "      <td>0</td>\n",
       "      <td>0</td>\n",
       "      <td>0</td>\n",
       "      <td>1</td>\n",
       "      <td>0</td>\n",
       "    </tr>\n",
       "    <tr>\n",
       "      <th>6847</th>\n",
       "      <td>297154</td>\n",
       "      <td>4</td>\n",
       "      <td>0.25</td>\n",
       "      <td>3</td>\n",
       "      <td>0</td>\n",
       "      <td>0.00</td>\n",
       "      <td>60</td>\n",
       "      <td>87.282</td>\n",
       "      <td>81.036</td>\n",
       "      <td>0.0</td>\n",
       "      <td>...</td>\n",
       "      <td>0</td>\n",
       "      <td>0</td>\n",
       "      <td>0</td>\n",
       "      <td>0</td>\n",
       "      <td>0</td>\n",
       "      <td>0</td>\n",
       "      <td>0</td>\n",
       "      <td>0</td>\n",
       "      <td>1</td>\n",
       "      <td>0</td>\n",
       "    </tr>\n",
       "    <tr>\n",
       "      <th>6848</th>\n",
       "      <td>297208</td>\n",
       "      <td>6</td>\n",
       "      <td>1.75</td>\n",
       "      <td>23</td>\n",
       "      <td>0</td>\n",
       "      <td>0.00</td>\n",
       "      <td>60</td>\n",
       "      <td>12.784</td>\n",
       "      <td>89.816</td>\n",
       "      <td>0.0</td>\n",
       "      <td>...</td>\n",
       "      <td>0</td>\n",
       "      <td>0</td>\n",
       "      <td>0</td>\n",
       "      <td>0</td>\n",
       "      <td>0</td>\n",
       "      <td>0</td>\n",
       "      <td>0</td>\n",
       "      <td>0</td>\n",
       "      <td>1</td>\n",
       "      <td>0</td>\n",
       "    </tr>\n",
       "    <tr>\n",
       "      <th>6849</th>\n",
       "      <td>297252</td>\n",
       "      <td>1</td>\n",
       "      <td>1.65</td>\n",
       "      <td>17</td>\n",
       "      <td>0</td>\n",
       "      <td>0.00</td>\n",
       "      <td>32</td>\n",
       "      <td>85.877</td>\n",
       "      <td>79.368</td>\n",
       "      <td>0.0</td>\n",
       "      <td>...</td>\n",
       "      <td>0</td>\n",
       "      <td>0</td>\n",
       "      <td>0</td>\n",
       "      <td>0</td>\n",
       "      <td>0</td>\n",
       "      <td>0</td>\n",
       "      <td>0</td>\n",
       "      <td>0</td>\n",
       "      <td>0</td>\n",
       "      <td>1</td>\n",
       "    </tr>\n",
       "    <tr>\n",
       "      <th>6850</th>\n",
       "      <td>297283</td>\n",
       "      <td>4</td>\n",
       "      <td>0.83</td>\n",
       "      <td>8</td>\n",
       "      <td>0</td>\n",
       "      <td>0.00</td>\n",
       "      <td>73</td>\n",
       "      <td>87.282</td>\n",
       "      <td>86.732</td>\n",
       "      <td>0.0</td>\n",
       "      <td>...</td>\n",
       "      <td>0</td>\n",
       "      <td>0</td>\n",
       "      <td>0</td>\n",
       "      <td>0</td>\n",
       "      <td>0</td>\n",
       "      <td>0</td>\n",
       "      <td>1</td>\n",
       "      <td>0</td>\n",
       "      <td>0</td>\n",
       "      <td>0</td>\n",
       "    </tr>\n",
       "  </tbody>\n",
       "</table>\n",
       "<p>6851 rows × 28 columns</p>\n",
       "</div>"
      ],
      "text/plain": [
       "       index  Number of Authors  Field-Weighted View Impact  Views  Citations  \\\n",
       "0         96                  5                        1.55     26         11   \n",
       "1        134                  2                        1.59     28          8   \n",
       "2        466                  2                        0.70     15          3   \n",
       "3        575                  2                        1.59     32          2   \n",
       "4        615                  4                        0.93     20          2   \n",
       "...      ...                ...                         ...    ...        ...   \n",
       "6846  297143                  3                        1.74     13          0   \n",
       "6847  297154                  4                        0.25      3          0   \n",
       "6848  297208                  6                        1.75     23          0   \n",
       "6849  297252                  1                        1.65     17          0   \n",
       "6850  297283                  4                        0.83      8          0   \n",
       "\n",
       "      Field-Weighted Citation Impact  \\\n",
       "0                               1.76   \n",
       "1                               1.37   \n",
       "2                               0.43   \n",
       "3                               0.51   \n",
       "4                               0.29   \n",
       "...                              ...   \n",
       "6846                            0.00   \n",
       "6847                            0.00   \n",
       "6848                            0.00   \n",
       "6849                            0.00   \n",
       "6850                            0.00   \n",
       "\n",
       "      Field-Weighted Outputs in Top Citation Percentiles, per percentile  \\\n",
       "0                                                    16                    \n",
       "1                                                    22                    \n",
       "2                                                    51                    \n",
       "3                                                    44                    \n",
       "4                                                    59                    \n",
       "...                                                 ...                    \n",
       "6846                                                 60                    \n",
       "6847                                                 60                    \n",
       "6848                                                 60                    \n",
       "6849                                                 32                    \n",
       "6850                                                 73                    \n",
       "\n",
       "     Topic Cluster Prominence Percentile Topic Prominence Percentile  score  \\\n",
       "0                                 96.519                      79.242    0.0   \n",
       "1                                 69.545                      87.089    0.0   \n",
       "2                                  80.79                      12.148    0.0   \n",
       "3                                 69.545                      87.089    0.0   \n",
       "4                                 69.545                      87.089    0.0   \n",
       "...                                  ...                         ...    ...   \n",
       "6846                              87.282                      95.508    0.0   \n",
       "6847                              87.282                      81.036    0.0   \n",
       "6848                              12.784                      89.816    0.0   \n",
       "6849                              85.877                      79.368    0.0   \n",
       "6850                              87.282                      86.732    0.0   \n",
       "\n",
       "      ...  Publication type_Letter  Publication type_Note  \\\n",
       "0     ...                        0                      0   \n",
       "1     ...                        0                      0   \n",
       "2     ...                        0                      0   \n",
       "3     ...                        0                      0   \n",
       "4     ...                        0                      0   \n",
       "...   ...                      ...                    ...   \n",
       "6846  ...                        0                      0   \n",
       "6847  ...                        0                      0   \n",
       "6848  ...                        0                      0   \n",
       "6849  ...                        0                      0   \n",
       "6850  ...                        0                      0   \n",
       "\n",
       "      Publication type_Review  Publication type_Short Survey  Year_2015  \\\n",
       "0                           0                              0          0   \n",
       "1                           0                              0          0   \n",
       "2                           0                              0          0   \n",
       "3                           0                              0          0   \n",
       "4                           0                              0          0   \n",
       "...                       ...                            ...        ...   \n",
       "6846                        0                              0          0   \n",
       "6847                        0                              0          0   \n",
       "6848                        0                              0          0   \n",
       "6849                        0                              0          0   \n",
       "6850                        0                              0          0   \n",
       "\n",
       "      Year_2016  Year_2017  Year_2018  Year_2019  Year_2020  \n",
       "0             0          0          1          0          0  \n",
       "1             0          0          1          0          0  \n",
       "2             0          1          0          0          0  \n",
       "3             0          0          0          1          0  \n",
       "4             0          1          0          0          0  \n",
       "...         ...        ...        ...        ...        ...  \n",
       "6846          0          0          0          1          0  \n",
       "6847          0          0          0          1          0  \n",
       "6848          0          0          0          1          0  \n",
       "6849          0          0          0          0          1  \n",
       "6850          0          1          0          0          0  \n",
       "\n",
       "[6851 rows x 28 columns]"
      ]
     },
     "execution_count": 21,
     "metadata": {},
     "output_type": "execute_result"
    }
   ],
   "source": [
    "# Сделаем из Publication type dummie\n",
    "new_data_oh = pd.get_dummies(new_data, columns = ['Publication type', 'Year'])\n",
    "new_data_oh"
   ]
  },
  {
   "cell_type": "code",
   "execution_count": 22,
   "metadata": {},
   "outputs": [
    {
     "data": {
      "text/plain": [
       "<matplotlib.axes._subplots.AxesSubplot at 0x214960c6fa0>"
      ]
     },
     "execution_count": 22,
     "metadata": {},
     "output_type": "execute_result"
    },
    {
     "data": {
      "image/png": "[encoded data removed]",
      "text/plain": [
       "<Figure size 864x864 with 2 Axes>"
      ]
     },
     "metadata": {},
     "output_type": "display_data"
    }
   ],
   "source": [
    "import seaborn as sns\n",
    "import matplotlib.pyplot as plt\n",
    "\n",
    "\n",
    "sns.set(font_scale=1)\n",
    "plt.subplots(figsize=(12, 12))\n",
    "sns.heatmap(new_data.corr(), square=True,\n",
    "              annot=True, fmt=\".2f\", linewidths=0.1, cmap=\"RdBu\")"
   ]
  },
  {
   "cell_type": "code",
   "execution_count": 23,
   "metadata": {},
   "outputs": [
    {
     "name": "stdout",
     "output_type": "stream",
     "text": [
      "(6851, 26) (6851,)\n"
     ]
    }
   ],
   "source": [
    "X=new_data_oh.drop([\"score\", 'index'], axis = 1) \n",
    "y=new_data_oh[\"score\"]\n",
    "print(X.shape, y.shape )"
   ]
  },
  {
   "cell_type": "code",
   "execution_count": 24,
   "metadata": {},
   "outputs": [
    {
     "name": "stdout",
     "output_type": "stream",
     "text": [
      "      Number of Authors  Field-Weighted View Impact  Views  Citations  \\\n",
      "892                   8                        1.73     25         11   \n",
      "1715                  3                        0.27     11          0   \n",
      "1003                  8                        0.48     15          6   \n",
      "957                   3                        0.40      9          7   \n",
      "6459                  4                        0.84     10          9   \n",
      "...                 ...                         ...    ...        ...   \n",
      "1317                  3                        0.39     12          2   \n",
      "2283                 13                        2.69     51          6   \n",
      "2004                  3                        0.55     10          0   \n",
      "3668                  7                        1.15     13          5   \n",
      "607                   3                        1.25      9          0   \n",
      "\n",
      "      Field-Weighted Citation Impact  \\\n",
      "892                             2.25   \n",
      "1715                            0.00   \n",
      "1003                            0.60   \n",
      "957                             0.59   \n",
      "6459                           14.35   \n",
      "...                              ...   \n",
      "1317                            0.27   \n",
      "2283                            0.12   \n",
      "2004                            0.00   \n",
      "3668                            1.00   \n",
      "607                             0.00   \n",
      "\n",
      "      Field-Weighted Outputs in Top Citation Percentiles, per percentile  \\\n",
      "892                                                  11                    \n",
      "1715                                                 71                    \n",
      "1003                                                 42                    \n",
      "957                                                  43                    \n",
      "6459                                                  1                    \n",
      "...                                                 ...                    \n",
      "1317                                                 59                    \n",
      "2283                                                 67                    \n",
      "2004                                                 73                    \n",
      "3668                                                 29                    \n",
      "607                                                  32                    \n",
      "\n",
      "     Topic Cluster Prominence Percentile Topic Prominence Percentile  \\\n",
      "892                               96.519                      94.616   \n",
      "1715                              35.609                      73.212   \n",
      "1003                              12.784                      79.418   \n",
      "957                               87.282                       78.99   \n",
      "6459                              21.821                      80.108   \n",
      "...                                  ...                         ...   \n",
      "1317                              55.422                      21.509   \n",
      "2283                              87.282                      81.514   \n",
      "2004                              87.282                      92.543   \n",
      "3668                              87.282                      77.818   \n",
      "607                               38.822                      76.643   \n",
      "\n",
      "      Publication type_Abstract Report  Publication type_Article  ...  \\\n",
      "892                                  0                         0  ...   \n",
      "1715                                 0                         1  ...   \n",
      "1003                                 0                         1  ...   \n",
      "957                                  0                         1  ...   \n",
      "6459                                 0                         0  ...   \n",
      "...                                ...                       ...  ...   \n",
      "1317                                 0                         1  ...   \n",
      "2283                                 0                         1  ...   \n",
      "2004                                 0                         1  ...   \n",
      "3668                                 0                         1  ...   \n",
      "607                                  0                         1  ...   \n",
      "\n",
      "      Publication type_Letter  Publication type_Note  Publication type_Review  \\\n",
      "892                         0                      0                        0   \n",
      "1715                        0                      0                        0   \n",
      "1003                        0                      0                        0   \n",
      "957                         0                      0                        0   \n",
      "6459                        0                      0                        0   \n",
      "...                       ...                    ...                      ...   \n",
      "1317                        0                      0                        0   \n",
      "2283                        0                      0                        0   \n",
      "2004                        0                      0                        0   \n",
      "3668                        0                      0                        0   \n",
      "607                         0                      0                        0   \n",
      "\n",
      "      Publication type_Short Survey  Year_2015  Year_2016  Year_2017  \\\n",
      "892                               0          1          0          0   \n",
      "1715                              0          1          0          0   \n",
      "1003                              0          1          0          0   \n",
      "957                               0          1          0          0   \n",
      "6459                              0          0          0          0   \n",
      "...                             ...        ...        ...        ...   \n",
      "1317                              0          0          1          0   \n",
      "2283                              0          1          0          0   \n",
      "2004                              0          0          0          1   \n",
      "3668                              0          0          0          0   \n",
      "607                               0          0          0          0   \n",
      "\n",
      "      Year_2018  Year_2019  Year_2020  \n",
      "892           0          0          0  \n",
      "1715          0          0          0  \n",
      "1003          0          0          0  \n",
      "957           0          0          0  \n",
      "6459          0          1          0  \n",
      "...         ...        ...        ...  \n",
      "1317          0          0          0  \n",
      "2283          0          0          0  \n",
      "2004          0          0          0  \n",
      "3668          1          0          0  \n",
      "607           0          0          1  \n",
      "\n",
      "[5480 rows x 26 columns]       Number of Authors  Field-Weighted View Impact  Views  Citations  \\\n",
      "6086                  3                        0.90     12          3   \n",
      "3111                  3                        0.88     20          3   \n",
      "4706                  3                        0.15      8          9   \n",
      "6458                  3                        1.00     15         10   \n",
      "5816                  1                        1.31     13          0   \n",
      "...                 ...                         ...    ...        ...   \n",
      "4059                  3                        0.46      8          0   \n",
      "6752                  4                        1.09     15          3   \n",
      "3829                  6                        1.79     57         13   \n",
      "444                  15                        3.36     82          6   \n",
      "5670                  9                        2.06     35          2   \n",
      "\n",
      "      Field-Weighted Citation Impact  \\\n",
      "6086                            1.37   \n",
      "3111                            0.24   \n",
      "4706                            0.65   \n",
      "6458                            3.04   \n",
      "5816                            0.00   \n",
      "...                              ...   \n",
      "4059                            0.00   \n",
      "6752                            0.43   \n",
      "3829                            0.63   \n",
      "444                             0.75   \n",
      "5670                            0.57   \n",
      "\n",
      "      Field-Weighted Outputs in Top Citation Percentiles, per percentile  \\\n",
      "6086                                                 21                    \n",
      "3111                                                 60                    \n",
      "4706                                                 40                    \n",
      "6458                                                  8                    \n",
      "5816                                                 69                    \n",
      "...                                                 ...                    \n",
      "4059                                                 73                    \n",
      "6752                                                 51                    \n",
      "3829                                                 41                    \n",
      "444                                                  37                    \n",
      "5670                                                 42                    \n",
      "\n",
      "     Topic Cluster Prominence Percentile Topic Prominence Percentile  \\\n",
      "6086                              12.784                      79.418   \n",
      "3111                              96.519                       97.28   \n",
      "4706                              87.282                      70.497   \n",
      "6458                              21.821                      80.108   \n",
      "5816                              96.519                      84.728   \n",
      "...                                  ...                         ...   \n",
      "4059                              12.784                      79.418   \n",
      "6752                              87.282                      81.442   \n",
      "3829                              76.305                      98.071   \n",
      "444                               95.248                      96.502   \n",
      "5670                              65.997                      71.711   \n",
      "\n",
      "      Publication type_Abstract Report  Publication type_Article  ...  \\\n",
      "6086                                 0                         0  ...   \n",
      "3111                                 0                         1  ...   \n",
      "4706                                 0                         1  ...   \n",
      "6458                                 0                         1  ...   \n",
      "5816                                 0                         0  ...   \n",
      "...                                ...                       ...  ...   \n",
      "4059                                 0                         1  ...   \n",
      "6752                                 0                         1  ...   \n",
      "3829                                 0                         1  ...   \n",
      "444                                  0                         1  ...   \n",
      "5670                                 0                         1  ...   \n",
      "\n",
      "      Publication type_Letter  Publication type_Note  Publication type_Review  \\\n",
      "6086                        0                      0                        0   \n",
      "3111                        0                      0                        0   \n",
      "4706                        0                      0                        0   \n",
      "6458                        0                      0                        0   \n",
      "5816                        0                      0                        0   \n",
      "...                       ...                    ...                      ...   \n",
      "4059                        0                      0                        0   \n",
      "6752                        0                      0                        0   \n",
      "3829                        0                      0                        0   \n",
      "444                         0                      0                        0   \n",
      "5670                        0                      0                        0   \n",
      "\n",
      "      Publication type_Short Survey  Year_2015  Year_2016  Year_2017  \\\n",
      "6086                              0          0          1          0   \n",
      "3111                              0          1          0          0   \n",
      "4706                              0          1          0          0   \n",
      "6458                              0          0          0          0   \n",
      "5816                              0          0          0          0   \n",
      "...                             ...        ...        ...        ...   \n",
      "4059                              0          0          0          1   \n",
      "6752                              0          0          0          0   \n",
      "3829                              0          1          0          0   \n",
      "444                               0          0          0          1   \n",
      "5670                              0          0          0          0   \n",
      "\n",
      "      Year_2018  Year_2019  Year_2020  \n",
      "6086          0          0          0  \n",
      "3111          0          0          0  \n",
      "4706          0          0          0  \n",
      "6458          0          1          0  \n",
      "5816          1          0          0  \n",
      "...         ...        ...        ...  \n",
      "4059          0          0          0  \n",
      "6752          1          0          0  \n",
      "3829          0          0          0  \n",
      "444           0          0          0  \n",
      "5670          0          1          0  \n",
      "\n",
      "[1371 rows x 26 columns] 892     0.000000\n",
      "1715    0.000000\n",
      "1003    0.000000\n",
      "957     0.000000\n",
      "6459    0.633075\n",
      "          ...   \n",
      "1317    0.000000\n",
      "2283    0.000000\n",
      "2004    0.000000\n",
      "3668    0.000000\n",
      "607     0.000000\n",
      "Name: score, Length: 5480, dtype: float64 6086    0.171919\n",
      "3111    0.417447\n",
      "4706    0.063028\n",
      "6458    0.633075\n",
      "5816    0.000000\n",
      "          ...   \n",
      "4059    0.070758\n",
      "6752    0.000000\n",
      "3829    0.000000\n",
      "444     0.000000\n",
      "5670    0.000000\n",
      "Name: score, Length: 1371, dtype: float64\n"
     ]
    }
   ],
   "source": [
    "from sklearn.model_selection import train_test_split\n",
    "X_train, X_test, y_train, y_test = train_test_split(X, y, test_size=0.2, random_state=77)\n",
    "print(X_train, X_test, y_train, y_test)\n",
    "\n",
    "\n",
    "#from sklearn.preprocessing import RobustScaler\n",
    "#scaler = RobustScaler()\n",
    "from sklearn.preprocessing import MinMaxScaler\n",
    "scaler = MinMaxScaler()\n",
    "\n",
    "X_test=scaler.fit_transform(X_test)\n",
    "X_train=scaler.fit_transform(X_train)"
   ]
  },
  {
   "cell_type": "code",
   "execution_count": 25,
   "metadata": {},
   "outputs": [],
   "source": [
    "from sklearn.linear_model import LinearRegression \n",
    "lr=LinearRegression()\n",
    "lr.fit(X_train, y_train)\n",
    "y_pred=lr.predict(X_test)"
   ]
  },
  {
   "cell_type": "code",
   "execution_count": 26,
   "metadata": {},
   "outputs": [
    {
     "data": {
      "text/plain": [
       "array([-1.02257239e-01, -3.25333391e-01,  1.23546007e-01,  1.03736036e-01,\n",
       "        5.63662085e-01, -3.87892757e-02, -6.10146962e-02,  8.27603367e-02,\n",
       "       -9.71445147e-17, -1.68751512e-03,  4.38671969e-02,  1.84804437e-02,\n",
       "       -2.73332532e-02,  1.22979085e-02, -5.78971274e-02, -2.27589845e-02,\n",
       "        6.47266936e-03, -3.70215657e-02, -2.61265869e-02,  9.17068144e-02,\n",
       "       -5.12649433e-04,  2.16980692e-04, -4.37155873e-03, -4.64039893e-03,\n",
       "        2.26493660e-03,  7.04268980e-03])"
      ]
     },
     "execution_count": 26,
     "metadata": {},
     "output_type": "execute_result"
    }
   ],
   "source": [
    "lr.coef_"
   ]
  },
  {
   "cell_type": "code",
   "execution_count": 27,
   "metadata": {},
   "outputs": [
    {
     "data": {
      "text/plain": [
       "0.050621101893611936"
      ]
     },
     "execution_count": 27,
     "metadata": {},
     "output_type": "execute_result"
    }
   ],
   "source": [
    "lr.intercept_"
   ]
  },
  {
   "cell_type": "code",
   "execution_count": 28,
   "metadata": {},
   "outputs": [
    {
     "data": {
      "text/plain": [
       "0.07485143440840458"
      ]
     },
     "execution_count": 28,
     "metadata": {},
     "output_type": "execute_result"
    }
   ],
   "source": [
    "lr.score(X_test, y_test) # Р-квадрат\n"
   ]
  },
  {
   "cell_type": "code",
   "execution_count": 29,
   "metadata": {},
   "outputs": [
    {
     "name": "stdout",
     "output_type": "stream",
     "text": [
      "0.06765729304207481\n",
      "0.07172915021533173\n"
     ]
    }
   ],
   "source": [
    "from sklearn.metrics import mean_absolute_error as MAE\n",
    "y_pred_LR_train = lr.predict(X_train)\n",
    "print(MAE(y_train, y_pred_LR_train))\n",
    "\n",
    "print(MAE(y_test, y_pred))\n"
   ]
  },
  {
   "cell_type": "code",
   "execution_count": 30,
   "metadata": {},
   "outputs": [
    {
     "name": "stdout",
     "output_type": "stream",
     "text": [
      "(1371, 26) (1371,)\n"
     ]
    }
   ],
   "source": [
    "print(X_test.shape, y_test.shape)"
   ]
  },
  {
   "cell_type": "code",
   "execution_count": 31,
   "metadata": {},
   "outputs": [
    {
     "data": {
      "text/plain": [
       "(array([ 16., 789., 510.,  43.,   7.,   3.,   1.,   0.,   0.,   2.]),\n",
       " array([-0.07201273, -0.00386439,  0.06428396,  0.1324323 ,  0.20058064,\n",
       "         0.26872898,  0.33687733,  0.40502567,  0.47317401,  0.54132236,\n",
       "         0.6094707 ]),\n",
       " <a list of 10 Patch objects>)"
      ]
     },
     "execution_count": 31,
     "metadata": {},
     "output_type": "execute_result"
    },
    {
     "data": {
      "image/png": "[encoded data removed]",
      "text/plain": [
       "<Figure size 432x288 with 1 Axes>"
      ]
     },
     "metadata": {},
     "output_type": "display_data"
    }
   ],
   "source": [
    "plt.hist(y_pred)"
   ]
  },
  {
   "cell_type": "markdown",
   "metadata": {},
   "source": [
    "# Множественная полиномиальная регрессия (полином 4 степени)"
   ]
  },
  {
   "cell_type": "code",
   "execution_count": 32,
   "metadata": {},
   "outputs": [
    {
     "data": {
      "text/plain": [
       "LinearRegression()"
      ]
     },
     "execution_count": 32,
     "metadata": {},
     "output_type": "execute_result"
    }
   ],
   "source": [
    "from sklearn.preprocessing import PolynomialFeatures\n",
    "\n",
    "# Fitting Polynomial Regression to the dataset Полином 4 степени\n",
    "from sklearn.preprocessing import PolynomialFeatures\n",
    "poly_reg4 = PolynomialFeatures(degree=4)\n",
    "X_poly4 = poly_reg4.fit_transform(X)\n",
    "\n",
    "pol_reg4 = LinearRegression()\n",
    "pol_reg4.fit(X_poly4, y)"
   ]
  },
  {
   "cell_type": "code",
   "execution_count": 33,
   "metadata": {},
   "outputs": [
    {
     "data": {
      "text/plain": [
       "(1371, 27405)"
      ]
     },
     "execution_count": 33,
     "metadata": {},
     "output_type": "execute_result"
    }
   ],
   "source": [
    "X_poly_test4=poly_reg4.fit_transform(X_test)\n",
    "X_poly_test4.shape"
   ]
  },
  {
   "cell_type": "code",
   "execution_count": 34,
   "metadata": {},
   "outputs": [],
   "source": [
    "from sklearn.metrics import mean_squared_error as MSE\n"
   ]
  },
  {
   "cell_type": "code",
   "execution_count": 35,
   "metadata": {},
   "outputs": [
    {
     "data": {
      "text/plain": [
       "-233635.31318119104"
      ]
     },
     "execution_count": 35,
     "metadata": {},
     "output_type": "execute_result"
    }
   ],
   "source": [
    "pol_reg4.score(X_poly_test4, y_test)"
   ]
  },
  {
   "cell_type": "code",
   "execution_count": 36,
   "metadata": {},
   "outputs": [
    {
     "name": "stdout",
     "output_type": "stream",
     "text": [
      "26.320284733694116\n"
     ]
    }
   ],
   "source": [
    "y_pred_poly4=pol_reg4.predict(X_poly_test4)\n",
    "print (MAE(y_test, y_pred_poly4))"
   ]
  },
  {
   "cell_type": "code",
   "execution_count": 37,
   "metadata": {},
   "outputs": [
    {
     "data": {
      "text/plain": [
       "(array([1142.,    0.,    0.,    2.,  168.,    2.,    3.,    0.,    8.,\n",
       "          46.]),\n",
       " array([ -8.67036548,  14.72621408,  38.12279365,  61.51937321,\n",
       "         84.91595278, 108.31253234, 131.70911191, 155.10569147,\n",
       "        178.50227104, 201.8988506 , 225.29543017]),\n",
       " <a list of 10 Patch objects>)"
      ]
     },
     "execution_count": 37,
     "metadata": {},
     "output_type": "execute_result"
    },
    {
     "data": {
      "image/png": "[encoded data removed]",
      "text/plain": [
       "<Figure size 432x288 with 1 Axes>"
      ]
     },
     "metadata": {},
     "output_type": "display_data"
    }
   ],
   "source": [
    "plt.hist(y_pred_poly4)"
   ]
  },
  {
   "cell_type": "markdown",
   "metadata": {},
   "source": [
    "# Множественная полиномиальная регрессия (полином 3 степени)"
   ]
  },
  {
   "cell_type": "code",
   "execution_count": 38,
   "metadata": {},
   "outputs": [
    {
     "data": {
      "text/plain": [
       "LinearRegression()"
      ]
     },
     "execution_count": 38,
     "metadata": {},
     "output_type": "execute_result"
    }
   ],
   "source": [
    "poly_reg3 = PolynomialFeatures(degree=3)\n",
    "X_poly3 = poly_reg3.fit_transform(X)\n",
    "pol_reg3 = LinearRegression()\n",
    "pol_reg3.fit(X_poly3, y)"
   ]
  },
  {
   "cell_type": "code",
   "execution_count": 39,
   "metadata": {},
   "outputs": [
    {
     "data": {
      "text/plain": [
       "-116.27839155855361"
      ]
     },
     "execution_count": 39,
     "metadata": {},
     "output_type": "execute_result"
    }
   ],
   "source": [
    "X_poly_test3=poly_reg3.fit_transform(X_test)\n",
    "X_poly_test3.shape\n",
    "pol_reg3.score(X_poly_test3, y_test)"
   ]
  },
  {
   "cell_type": "code",
   "execution_count": 40,
   "metadata": {
    "scrolled": true
   },
   "outputs": [
    {
     "data": {
      "text/plain": [
       "1.1398288881122776"
      ]
     },
     "execution_count": 40,
     "metadata": {},
     "output_type": "execute_result"
    }
   ],
   "source": [
    "y_pred_poly3=pol_reg3.predict(X_poly_test3)\n",
    "MAE(y_test, y_pred_poly3)"
   ]
  },
  {
   "cell_type": "code",
   "execution_count": 41,
   "metadata": {},
   "outputs": [
    {
     "data": {
      "text/plain": [
       "(array([164.,  58.,   4.,   3., 191., 159., 403., 204., 126.,  59.]),\n",
       " array([-2.25305871, -2.04371097, -1.83436323, -1.62501548, -1.41566774,\n",
       "        -1.20632   , -0.99697225, -0.78762451, -0.57827677, -0.36892902,\n",
       "        -0.15958128]),\n",
       " <a list of 10 Patch objects>)"
      ]
     },
     "execution_count": 41,
     "metadata": {},
     "output_type": "execute_result"
    },
    {
     "data": {
      "image/png": "[encoded data removed]",
      "text/plain": [
       "<Figure size 432x288 with 1 Axes>"
      ]
     },
     "metadata": {},
     "output_type": "display_data"
    }
   ],
   "source": [
    "plt.hist(y_pred_poly3)"
   ]
  },
  {
   "cell_type": "markdown",
   "metadata": {},
   "source": [
    "# Множественная полиномиальная регрессия (полином 2 степени)"
   ]
  },
  {
   "cell_type": "code",
   "execution_count": 42,
   "metadata": {},
   "outputs": [
    {
     "data": {
      "text/plain": [
       "LinearRegression()"
      ]
     },
     "execution_count": 42,
     "metadata": {},
     "output_type": "execute_result"
    }
   ],
   "source": [
    "poly_reg2 = PolynomialFeatures(degree=2)\n",
    "X_poly2 = poly_reg2.fit_transform(X)\n",
    "pol_reg2 = LinearRegression()\n",
    "pol_reg2.fit(X_poly2, y)"
   ]
  },
  {
   "cell_type": "code",
   "execution_count": 43,
   "metadata": {},
   "outputs": [
    {
     "data": {
      "text/plain": [
       "-0.5325820836061954"
      ]
     },
     "execution_count": 43,
     "metadata": {},
     "output_type": "execute_result"
    }
   ],
   "source": [
    "X_poly_test2=poly_reg2.fit_transform(X_test)\n",
    "X_poly_test2.shape\n",
    "pol_reg2.score(X_poly_test2, y_test)"
   ]
  },
  {
   "cell_type": "code",
   "execution_count": 44,
   "metadata": {},
   "outputs": [
    {
     "data": {
      "text/plain": [
       "0.126815781705726"
      ]
     },
     "execution_count": 44,
     "metadata": {},
     "output_type": "execute_result"
    }
   ],
   "source": [
    "y_pred_poly2=pol_reg2.predict(X_poly_test2)\n",
    "MAE(y_test, y_pred_poly2)"
   ]
  },
  {
   "cell_type": "code",
   "execution_count": 45,
   "metadata": {},
   "outputs": [
    {
     "data": {
      "text/plain": [
       "(array([ 60., 390., 443., 260., 164.,  46.,   6.,   0.,   0.,   2.]),\n",
       " array([0.03992452, 0.07575112, 0.11157773, 0.14740433, 0.18323094,\n",
       "        0.21905754, 0.25488415, 0.29071075, 0.32653736, 0.36236396,\n",
       "        0.39819057]),\n",
       " <a list of 10 Patch objects>)"
      ]
     },
     "execution_count": 45,
     "metadata": {},
     "output_type": "execute_result"
    },
    {
     "data": {
      "image/png": "[encoded data removed]",
      "text/plain": [
       "<Figure size 432x288 with 1 Axes>"
      ]
     },
     "metadata": {},
     "output_type": "display_data"
    }
   ],
   "source": [
    "plt.hist(y_pred_poly2)"
   ]
  },
  {
   "cell_type": "code",
   "execution_count": 46,
   "metadata": {},
   "outputs": [
    {
     "name": "stdout",
     "output_type": "stream",
     "text": [
      "(6851, 27405)\n",
      "(6851, 3654)\n",
      "(6851, 378)\n"
     ]
    }
   ],
   "source": [
    "print(X_poly4.shape)\n",
    "print(X_poly3.shape)\n",
    "print(X_poly2.shape)\n"
   ]
  },
  {
   "cell_type": "markdown",
   "metadata": {},
   "source": [
    "# Бэггинг"
   ]
  },
  {
   "cell_type": "code",
   "execution_count": 57,
   "metadata": {},
   "outputs": [
    {
     "name": "stdout",
     "output_type": "stream",
     "text": [
      "0.08608292437121495\n",
      "0.08732212780984915\n"
     ]
    }
   ],
   "source": [
    "#Бэггинг\n",
    "from sklearn.svm import SVR\n",
    "from sklearn.ensemble import BaggingRegressor\n",
    "from sklearn.datasets import make_regression\n",
    "clf_BR = BaggingRegressor(base_estimator=SVR(),n_estimators=10, random_state=0).fit(X_train, y_train)\n",
    "y_pred_BR = clf_BR.predict(X_test)\n",
    "\n",
    "print(MAE(y_test, y_pred_BR))\n",
    "y_pred_BR_train = clf_BR.predict(X_train)\n",
    "print(MAE(y_train, y_pred_BR_train))"
   ]
  },
  {
   "cell_type": "code",
   "execution_count": 54,
   "metadata": {},
   "outputs": [
    {
     "name": "stdout",
     "output_type": "stream",
     "text": [
      "0.08608292437121495\n",
      "0.08732212780984915\n"
     ]
    }
   ],
   "source": [
    "#Бэггинг\n",
    "from sklearn.svm import SVR\n",
    "from sklearn.ensemble import BaggingRegressor\n",
    "from sklearn.datasets import make_regression\n",
    "clf_BR = BaggingRegressor(base_estimator=SVR(),n_estimators=10, random_state=0).fit(X_train, y_train)\n",
    "y_pred_BR = clf_BR.predict(X_test)\n",
    "\n",
    "print(MAE(y_test, y_pred_BR))\n",
    "y_pred_BR_train = clf_BR.predict(X_train)\n",
    "print(MAE(y_train, y_pred_BR_train))\n"
   ]
  },
  {
   "cell_type": "markdown",
   "metadata": {},
   "source": [
    "# Случайный лес"
   ]
  },
  {
   "cell_type": "code",
   "execution_count": 47,
   "metadata": {},
   "outputs": [],
   "source": [
    "from sklearn.ensemble import RandomForestRegressor\n",
    "\n",
    "rnd_clf = RandomForestRegressor(n_estimators=500, max_leaf_nodes=16, n_jobs=-1, random_state=42, max_depth=5)\n",
    "rnd_clf.fit(X_train, y_train)\n",
    "\n",
    "y_pred_rf = rnd_clf.predict(X_test)\n"
   ]
  },
  {
   "cell_type": "code",
   "execution_count": 48,
   "metadata": {},
   "outputs": [
    {
     "name": "stdout",
     "output_type": "stream",
     "text": [
      "0.039220800283583185\n",
      "0.038032163757532975\n"
     ]
    }
   ],
   "source": [
    "print (MAE(y_test, y_pred_rf))\n",
    "\n",
    "\n",
    "y_pred_RF_train = rnd_clf.predict(X_train)\n",
    "print(MAE(y_train, y_pred_RF_train))\n"
   ]
  },
  {
   "cell_type": "code",
   "execution_count": 49,
   "metadata": {},
   "outputs": [
    {
     "name": "stdout",
     "output_type": "stream",
     "text": [
      "Параметры по умолчанию:\n",
      "\n",
      "{'bootstrap': True,\n",
      " 'ccp_alpha': 0.0,\n",
      " 'criterion': 'mse',\n",
      " 'max_depth': None,\n",
      " 'max_features': 'auto',\n",
      " 'max_leaf_nodes': None,\n",
      " 'max_samples': None,\n",
      " 'min_impurity_decrease': 0.0,\n",
      " 'min_impurity_split': None,\n",
      " 'min_samples_leaf': 1,\n",
      " 'min_samples_split': 2,\n",
      " 'min_weight_fraction_leaf': 0.0,\n",
      " 'n_estimators': 100,\n",
      " 'n_jobs': None,\n",
      " 'oob_score': False,\n",
      " 'random_state': 42,\n",
      " 'verbose': 0,\n",
      " 'warm_start': False}\n"
     ]
    }
   ],
   "source": [
    "from sklearn.ensemble import RandomForestRegressor\n",
    "from pprint import pprint\n",
    "rf = RandomForestRegressor(random_state = 42)\n",
    "from pprint import pprint\n",
    "# Look at parameters used by our current forest\n",
    "print('Параметры по умолчанию:\\n')\n",
    "pprint(rf.get_params())\n"
   ]
  },
  {
   "cell_type": "code",
   "execution_count": 50,
   "metadata": {},
   "outputs": [],
   "source": [
    "from sklearn import tree\n",
    "from sklearn.datasets import make_blobs\n",
    "from sklearn.model_selection import train_test_split\n",
    "from sklearn.metrics import accuracy_score\n",
    "import matplotlib.pyplot as plt\n",
    "import numpy as np\n",
    "import pandas as pd"
   ]
  },
  {
   "cell_type": "markdown",
   "metadata": {},
   "source": [
    "# Подбор значений для случайного леса"
   ]
  },
  {
   "cell_type": "code",
   "execution_count": 51,
   "metadata": {},
   "outputs": [
    {
     "name": "stdout",
     "output_type": "stream",
     "text": [
      "0.03442255119922799\n",
      "0.01797415112299054\n",
      "127.33807921409607\n",
      "{'n_estimators': [200, 400, 600, 800, 1000, 1200, 1400, 1600, 1800, 2000], 'max_features': ['auto', 'sqrt'], 'max_depth': [1, None], 'min_samples_split': [2, 5, 10], 'min_samples_leaf': [1, 2, 4, 10, 30], 'bootstrap': [True, False]}\n"
     ]
    }
   ],
   "source": [
    "import time\n",
    "start = time.time()\n",
    "from sklearn.model_selection import RandomizedSearchCV\n",
    "n_estimators = [int(x) for x in np.linspace(start = 200, stop = 2000, num = 10)]\n",
    "max_features = ['auto', 'sqrt']\n",
    "max_depth=5\n",
    "max_depth = [int(x) for x in np.linspace(1, 15, num = 1)]\n",
    "#max_depth = [int(x) for x in np.linspace(10, 110, num = 11)]\n",
    "max_depth.append(None)\n",
    "min_samples_split = [2, 5, 10]\n",
    "min_samples_leaf = [1, 2, 4, 10, 30]\n",
    "#n_estimators=[30, 50, 100, 150, 200, 250]\n",
    "#n_estimators=[30, 50, 100]\n",
    "\n",
    "bootstrap = [True, False]\n",
    "random_grid = {'n_estimators': n_estimators,\n",
    "               'max_features': max_features,\n",
    "               'max_depth': max_depth,\n",
    "               'min_samples_split': min_samples_split,\n",
    "               'min_samples_leaf': min_samples_leaf,\n",
    "               'bootstrap': bootstrap}\n",
    "rsv=RandomizedSearchCV(    estimator=RandomForestRegressor(random_state=42),\n",
    "    param_distributions=random_grid,\n",
    "    n_iter=10,\n",
    "    scoring='neg_mean_absolute_error',\n",
    "    n_jobs=-1,\n",
    "    iid='deprecated',\n",
    "    refit=True,\n",
    "    cv=10,\n",
    "    verbose=0,\n",
    "    pre_dispatch='2*n_jobs',\n",
    "    random_state=42,\n",
    "    return_train_score=False,)\n",
    "rsv.fit(X_train, y_train)\n",
    "y_pred_rsv = rsv.predict(X_test)\n",
    "print(MAE(y_test, y_pred_rsv))\n",
    "y_pred_rsv_train = rsv.predict(X_train)\n",
    "print(MAE(y_train, y_pred_rsv_train))\n",
    "end = time.time()\n",
    "print(end - start)\n",
    "print(random_grid)"
   ]
  },
  {
   "cell_type": "code",
   "execution_count": 52,
   "metadata": {},
   "outputs": [
    {
     "data": {
      "text/plain": [
       "{'n_estimators': 200,\n",
       " 'min_samples_split': 2,\n",
       " 'min_samples_leaf': 2,\n",
       " 'max_features': 'auto',\n",
       " 'max_depth': None,\n",
       " 'bootstrap': True}"
      ]
     },
     "execution_count": 52,
     "metadata": {},
     "output_type": "execute_result"
    }
   ],
   "source": [
    "rsv.best_params_\n"
   ]
  },
  {
   "cell_type": "markdown",
   "metadata": {},
   "source": [
    "# Дерево решений"
   ]
  },
  {
   "cell_type": "code",
   "execution_count": 53,
   "metadata": {},
   "outputs": [
    {
     "name": "stdout",
     "output_type": "stream",
     "text": [
      "0.040257803680057394\n",
      "0.03925751602398934\n"
     ]
    }
   ],
   "source": [
    "from sklearn.tree import DecisionTreeRegressor\n",
    "#Decision Tree Regressor\n",
    "clf_DTC = DecisionTreeRegressor(max_depth=4, random_state=42)\n",
    "clf_DTC.fit(X_train, y_train)\n",
    "y_pred_DTC = clf_DTC.predict(X_test)\n",
    "\n",
    "print(MAE(y_test, y_pred_DTC))\n",
    "y_pred_DTC_train = clf_DTC.predict(X_train)\n",
    "print(MAE(y_train, y_pred_DTC_train))\n"
   ]
  },
  {
   "cell_type": "code",
   "execution_count": 55,
   "metadata": {},
   "outputs": [
    {
     "data": {
      "text/plain": [
       "(array([  3.,  31., 392., 903.,  16.,  21.,   3.,   1.,   0.,   1.]),\n",
       " array([-0.15736801, -0.07932651, -0.00128501,  0.07675648,  0.15479798,\n",
       "         0.23283948,  0.31088097,  0.38892247,  0.46696397,  0.54500546,\n",
       "         0.62304696]),\n",
       " <a list of 10 Patch objects>)"
      ]
     },
     "execution_count": 55,
     "metadata": {},
     "output_type": "execute_result"
    },
    {
     "data": {
      "image/png": "[encoded data removed]",
      "text/plain": [
       "<Figure size 432x288 with 1 Axes>"
      ]
     },
     "metadata": {},
     "output_type": "display_data"
    }
   ],
   "source": [
    "plt.hist(y_pred_BR)"
   ]
  },
  {
   "cell_type": "code",
   "execution_count": 56,
   "metadata": {},
   "outputs": [
    {
     "name": "stdout",
     "output_type": "stream",
     "text": [
      "0.0859655381687209\n",
      "0.08706016317551277\n",
      "Wall time: 4.67 s\n"
     ]
    }
   ],
   "source": [
    "%%time\n",
    "#Бэггинг\n",
    "from sklearn.svm import SVR\n",
    "from sklearn.ensemble import BaggingRegressor\n",
    "from sklearn.datasets import make_regression\n",
    "clf_BR = BaggingRegressor(base_estimator=SVR(),n_estimators=15, random_state=0).fit(X_train, y_train)\n",
    "y_pred_BR = clf_BR.predict(X_test)\n",
    "\n",
    "print(MAE(y_test, y_pred_BR))\n",
    "y_pred_BR_train = clf_BR.predict(X_train)\n",
    "print(MAE(y_train, y_pred_BR_train))"
   ]
  },
  {
   "cell_type": "code",
   "execution_count": 58,
   "metadata": {},
   "outputs": [
    {
     "name": "stdout",
     "output_type": "stream",
     "text": [
      "0.05158725481372471\n",
      "0.05198233773918354\n"
     ]
    }
   ],
   "source": [
    "from sklearn.tree import DecisionTreeRegressor\n",
    "#Decision Tree Regressor\n",
    "clf_DTC = DecisionTreeRegressor(max_depth=2, random_state=42)\n",
    "clf_DTC.fit(X_train, y_train)\n",
    "y_pred_DTC = clf_DTC.predict(X_test)\n",
    "\n",
    "print(MAE(y_test, y_pred_DTC))\n",
    "y_pred_DTC_train = clf_DTC.predict(X_train)\n",
    "print(MAE(y_train, y_pred_DTC_train))\n"
   ]
  },
  {
   "cell_type": "code",
   "execution_count": 59,
   "metadata": {},
   "outputs": [
    {
     "name": "stdout",
     "output_type": "stream",
     "text": [
      "0.03722918543332531\n",
      "0.0366101110967241\n"
     ]
    }
   ],
   "source": [
    "from sklearn.tree import DecisionTreeRegressor\n",
    "#Decision Tree Regressor\n",
    "clf_DTC = DecisionTreeRegressor(max_depth=5, random_state=42)\n",
    "clf_DTC.fit(X_train, y_train)\n",
    "y_pred_DTC = clf_DTC.predict(X_test)\n",
    "\n",
    "print(MAE(y_test, y_pred_DTC))\n",
    "y_pred_DTC_train = clf_DTC.predict(X_train)\n",
    "print(MAE(y_train, y_pred_DTC_train))"
   ]
  },
  {
   "cell_type": "code",
   "execution_count": 60,
   "metadata": {},
   "outputs": [
    {
     "name": "stdout",
     "output_type": "stream",
     "text": [
      "0.03812881586796221\n",
      "0.009617253998620817\n"
     ]
    }
   ],
   "source": [
    "from sklearn.tree import DecisionTreeRegressor\n",
    "#Decision Tree Regressor\n",
    "clf_DTC = DecisionTreeRegressor(max_depth=15, random_state=42)\n",
    "clf_DTC.fit(X_train, y_train)\n",
    "y_pred_DTC = clf_DTC.predict(X_test)\n",
    "\n",
    "print(MAE(y_test, y_pred_DTC))\n",
    "y_pred_DTC_train = clf_DTC.predict(X_train)\n",
    "print(MAE(y_train, y_pred_DTC_train))"
   ]
  },
  {
   "cell_type": "code",
   "execution_count": 61,
   "metadata": {
    "scrolled": true
   },
   "outputs": [
    {
     "name": "stdout",
     "output_type": "stream",
     "text": [
      "Средний модуль отклонения на обучающей выборке 0.0396213548470803\n",
      "Средний модуль отклонения на тренинговой выборке 0.03949774722319475\n",
      "Минимальное предсказанное значение : 0.0 \n",
      " Среднее предсказанное значение : 0.04747407708631387 \n",
      " Максимальное предсказанное значение :  0.633075267\n"
     ]
    }
   ],
   "source": [
    "from sklearn.tree import DecisionTreeRegressor\n",
    "#Decision Tree Regressor\n",
    "clf_DTC = DecisionTreeRegressor(max_depth=4, random_state=42, criterion='mae', splitter='best', max_features='auto')\n",
    "clf_DTC.fit(X_train, y_train)\n",
    "y_pred_DTC = clf_DTC.predict(X_test)\n",
    "\n",
    "y_pred_DTC_train = clf_DTC.predict(X_train)\n",
    "print('Средний модуль отклонения на обучающей выборке', MAE(y_train, y_pred_DTC_train))\n",
    "\n",
    "print('Средний модуль отклонения на тренинговой выборке', MAE(y_test, y_pred_DTC))\n",
    "print('Минимальное предсказанное значение :', y_pred_DTC_train.min(), '\\n' , 'Среднее предсказанное значение :', y_pred_DTC_train.mean(), '\\n' , 'Максимальное предсказанное значение : ', y_pred_DTC_train.max())"
   ]
  },
  {
   "cell_type": "code",
   "execution_count": null,
   "metadata": {},
   "outputs": [],
   "source": []
  }
 ],
 "metadata": {
  "kernelspec": {
   "display_name": "Python 3",
   "language": "python",
   "name": "python3"
  },
  "language_info": {
   "codemirror_mode": {
    "name": "ipython",
    "version": 3
   },
   "file_extension": ".py",
   "mimetype": "text/x-python",
   "name": "python",
   "nbconvert_exporter": "python",
   "pygments_lexer": "ipython3",
   "version": "3.8.3"
  }
 },
 "nbformat": 4,
 "nbformat_minor": 4
}
