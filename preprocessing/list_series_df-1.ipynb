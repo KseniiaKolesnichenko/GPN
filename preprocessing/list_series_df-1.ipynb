{
  "nbformat": 4,
  "nbformat_minor": 0,
  "metadata": {
    "colab": {
      "name": "list-series-df.ipynb",
      "provenance": [],
      "collapsed_sections": []
    },
    "kernelspec": {
      "display_name": "Python 3",
      "language": "python",
      "name": "python3"
    }
  },
  "cells": [
    {
      "cell_type": "code",
      "metadata": {
        "id": "P4QBlx_l4t-Z"
      },
      "source": [
        "import pandas as pd\n",
        "import numpy as np\n"
      ],
      "execution_count": 6,
      "outputs": []
    },
    {
      "cell_type": "code",
      "metadata": {
        "id": "GLVuEg2YXhSL",
        "colab": {
          "base_uri": "https://localhost:8080/",
          "height": 172
        },
        "outputId": "95ead1dd-1a22-4332-e811-d3efc1f5210c"
      },
      "source": [
        "df=pd.DataFrame({'A':[1,2],'All Science Journal Classification (ASJC) field name':['1','4| 5| 6'], 'Topic Cluster name': ['A,B','C,D'], 'Topic name':['E,F','G,H']})\n",
        "def replace_l_to_series (a): #превращает список строки датафрейма в сериес\n",
        "  return a.split('| ')\n",
        "def series_to_df (df,column_name): #превращает все сериесы столбца 'All Science Journal Classification (ASJC) field name' в датафрейм, \n",
        "#при этом добавляя количество строк по количеству элементов в сериес\n",
        "  df[column_name]=df[column_name].map(replace_l_to_series)\n",
        "  return df.explode(column_name)\n",
        "df=series_to_df(df,'All Science Journal Classification (ASJC) field name')\n",
        "df"
      ],
      "execution_count": 17,
      "outputs": [
        {
          "output_type": "execute_result",
          "data": {
            "text/html": [
              "<div>\n",
              "<style scoped>\n",
              "    .dataframe tbody tr th:only-of-type {\n",
              "        vertical-align: middle;\n",
              "    }\n",
              "\n",
              "    .dataframe tbody tr th {\n",
              "        vertical-align: top;\n",
              "    }\n",
              "\n",
              "    .dataframe thead th {\n",
              "        text-align: right;\n",
              "    }\n",
              "</style>\n",
              "<table border=\"1\" class=\"dataframe\">\n",
              "  <thead>\n",
              "    <tr style=\"text-align: right;\">\n",
              "      <th></th>\n",
              "      <th>A</th>\n",
              "      <th>All Science Journal Classification (ASJC) field name</th>\n",
              "      <th>Topic Cluster name</th>\n",
              "      <th>Topic name</th>\n",
              "    </tr>\n",
              "  </thead>\n",
              "  <tbody>\n",
              "    <tr>\n",
              "      <th>0</th>\n",
              "      <td>1</td>\n",
              "      <td>1</td>\n",
              "      <td>A,B</td>\n",
              "      <td>E,F</td>\n",
              "    </tr>\n",
              "    <tr>\n",
              "      <th>1</th>\n",
              "      <td>2</td>\n",
              "      <td>4</td>\n",
              "      <td>C,D</td>\n",
              "      <td>G,H</td>\n",
              "    </tr>\n",
              "    <tr>\n",
              "      <th>1</th>\n",
              "      <td>2</td>\n",
              "      <td>5</td>\n",
              "      <td>C,D</td>\n",
              "      <td>G,H</td>\n",
              "    </tr>\n",
              "    <tr>\n",
              "      <th>1</th>\n",
              "      <td>2</td>\n",
              "      <td>6</td>\n",
              "      <td>C,D</td>\n",
              "      <td>G,H</td>\n",
              "    </tr>\n",
              "  </tbody>\n",
              "</table>\n",
              "</div>"
            ],
            "text/plain": [
              "   A  ... Topic name\n",
              "0  1  ...        E,F\n",
              "1  2  ...        G,H\n",
              "1  2  ...        G,H\n",
              "1  2  ...        G,H\n",
              "\n",
              "[4 rows x 4 columns]"
            ]
          },
          "metadata": {
            "tags": []
          },
          "execution_count": 17
        }
      ]
    },
    {
      "cell_type": "code",
      "metadata": {
        "colab": {
          "base_uri": "https://localhost:8080/",
          "height": 540
        },
        "id": "eIxC20sL0Z0g",
        "outputId": "2989da68-c5b4-41cb-d3fb-3e381c949b63"
      },
      "source": [
        "def replace_l_to_series_1 (b): #превращает список строки датафрейма в сериес\n",
        "  return b.split(',')\n",
        "def series_to_df_1 (df,column_name): #превращает все сериесы  'Topic Cluster name' и 'Topic name' в датафрейм, при этом добавляя количество строк по количеству элементов в сериес\n",
        "  df[column_name]=df[column_name].map(replace_l_to_series_1)\n",
        "  return df.explode(column_name)\n",
        "df=series_to_df_1(df,'Topic Cluster name')\n",
        "df=series_to_df_1(df,'Topic name')\n",
        "df"
      ],
      "execution_count": 24,
      "outputs": [
        {
          "output_type": "execute_result",
          "data": {
            "text/html": [
              "<div>\n",
              "<style scoped>\n",
              "    .dataframe tbody tr th:only-of-type {\n",
              "        vertical-align: middle;\n",
              "    }\n",
              "\n",
              "    .dataframe tbody tr th {\n",
              "        vertical-align: top;\n",
              "    }\n",
              "\n",
              "    .dataframe thead th {\n",
              "        text-align: right;\n",
              "    }\n",
              "</style>\n",
              "<table border=\"1\" class=\"dataframe\">\n",
              "  <thead>\n",
              "    <tr style=\"text-align: right;\">\n",
              "      <th></th>\n",
              "      <th>A</th>\n",
              "      <th>All Science Journal Classification (ASJC) field name</th>\n",
              "      <th>Topic Cluster name</th>\n",
              "      <th>Topic name</th>\n",
              "    </tr>\n",
              "  </thead>\n",
              "  <tbody>\n",
              "    <tr>\n",
              "      <th>0</th>\n",
              "      <td>1</td>\n",
              "      <td>1</td>\n",
              "      <td>A</td>\n",
              "      <td>E</td>\n",
              "    </tr>\n",
              "    <tr>\n",
              "      <th>0</th>\n",
              "      <td>1</td>\n",
              "      <td>1</td>\n",
              "      <td>A</td>\n",
              "      <td>F</td>\n",
              "    </tr>\n",
              "    <tr>\n",
              "      <th>0</th>\n",
              "      <td>1</td>\n",
              "      <td>1</td>\n",
              "      <td>B</td>\n",
              "      <td>E</td>\n",
              "    </tr>\n",
              "    <tr>\n",
              "      <th>0</th>\n",
              "      <td>1</td>\n",
              "      <td>1</td>\n",
              "      <td>B</td>\n",
              "      <td>F</td>\n",
              "    </tr>\n",
              "    <tr>\n",
              "      <th>1</th>\n",
              "      <td>2</td>\n",
              "      <td>4</td>\n",
              "      <td>C</td>\n",
              "      <td>G</td>\n",
              "    </tr>\n",
              "    <tr>\n",
              "      <th>1</th>\n",
              "      <td>2</td>\n",
              "      <td>4</td>\n",
              "      <td>C</td>\n",
              "      <td>H</td>\n",
              "    </tr>\n",
              "    <tr>\n",
              "      <th>1</th>\n",
              "      <td>2</td>\n",
              "      <td>4</td>\n",
              "      <td>D</td>\n",
              "      <td>G</td>\n",
              "    </tr>\n",
              "    <tr>\n",
              "      <th>1</th>\n",
              "      <td>2</td>\n",
              "      <td>4</td>\n",
              "      <td>D</td>\n",
              "      <td>H</td>\n",
              "    </tr>\n",
              "    <tr>\n",
              "      <th>1</th>\n",
              "      <td>2</td>\n",
              "      <td>5</td>\n",
              "      <td>C</td>\n",
              "      <td>G</td>\n",
              "    </tr>\n",
              "    <tr>\n",
              "      <th>1</th>\n",
              "      <td>2</td>\n",
              "      <td>5</td>\n",
              "      <td>C</td>\n",
              "      <td>H</td>\n",
              "    </tr>\n",
              "    <tr>\n",
              "      <th>1</th>\n",
              "      <td>2</td>\n",
              "      <td>5</td>\n",
              "      <td>D</td>\n",
              "      <td>G</td>\n",
              "    </tr>\n",
              "    <tr>\n",
              "      <th>1</th>\n",
              "      <td>2</td>\n",
              "      <td>5</td>\n",
              "      <td>D</td>\n",
              "      <td>H</td>\n",
              "    </tr>\n",
              "    <tr>\n",
              "      <th>1</th>\n",
              "      <td>2</td>\n",
              "      <td>6</td>\n",
              "      <td>C</td>\n",
              "      <td>G</td>\n",
              "    </tr>\n",
              "    <tr>\n",
              "      <th>1</th>\n",
              "      <td>2</td>\n",
              "      <td>6</td>\n",
              "      <td>C</td>\n",
              "      <td>H</td>\n",
              "    </tr>\n",
              "    <tr>\n",
              "      <th>1</th>\n",
              "      <td>2</td>\n",
              "      <td>6</td>\n",
              "      <td>D</td>\n",
              "      <td>G</td>\n",
              "    </tr>\n",
              "    <tr>\n",
              "      <th>1</th>\n",
              "      <td>2</td>\n",
              "      <td>6</td>\n",
              "      <td>D</td>\n",
              "      <td>H</td>\n",
              "    </tr>\n",
              "  </tbody>\n",
              "</table>\n",
              "</div>"
            ],
            "text/plain": [
              "   A  ... Topic name\n",
              "0  1  ...          E\n",
              "0  1  ...          F\n",
              "0  1  ...          E\n",
              "0  1  ...          F\n",
              "1  2  ...          G\n",
              "1  2  ...          H\n",
              "1  2  ...          G\n",
              "1  2  ...          H\n",
              "1  2  ...          G\n",
              "1  2  ...          H\n",
              "1  2  ...          G\n",
              "1  2  ...          H\n",
              "1  2  ...          G\n",
              "1  2  ...          H\n",
              "1  2  ...          G\n",
              "1  2  ...          H\n",
              "\n",
              "[16 rows x 4 columns]"
            ]
          },
          "metadata": {
            "tags": []
          },
          "execution_count": 24
        }
      ]
    },
    {
      "cell_type": "code",
      "metadata": {
        "colab": {
          "base_uri": "https://localhost:8080/"
        },
        "id": "9T321OdC4jfl",
        "outputId": "06d1c653-e34a-45e0-dac4-bfbb5b43d60f"
      },
      "source": [
        "c=df['All Science Journal Classification (ASJC) field name'].unique() #уникальные значения по столбцу 'All Science Journal Classification (ASJC) field name'\n",
        "#Предполагается делать по ним поиск. ///Ищу вариант с выдачей подсказки из списка \"с\"\n",
        "c"
      ],
      "execution_count": 26,
      "outputs": [
        {
          "output_type": "execute_result",
          "data": {
            "text/plain": [
              "array(['1', '4', '5', '6'], dtype=object)"
            ]
          },
          "metadata": {
            "tags": []
          },
          "execution_count": 26
        }
      ]
    },
    {
      "cell_type": "code",
      "metadata": {
        "colab": {
          "base_uri": "https://localhost:8080/"
        },
        "id": "zPQUYC-05srR",
        "outputId": "5b9914e5-a2dc-4e47-fdda-4d21ce34bddb"
      },
      "source": [
        "d=df['Topic Cluster name'].unique()#уникальные значения по столбцу 'Topic Cluster name'\n",
        "#Предполагается делать по ним поиск. ///Ищу вариант с выдачей подсказки из списка \"d\"\n",
        "d"
      ],
      "execution_count": 27,
      "outputs": [
        {
          "output_type": "execute_result",
          "data": {
            "text/plain": [
              "array(['A', 'B', 'C', 'D'], dtype=object)"
            ]
          },
          "metadata": {
            "tags": []
          },
          "execution_count": 27
        }
      ]
    },
    {
      "cell_type": "code",
      "metadata": {
        "colab": {
          "base_uri": "https://localhost:8080/"
        },
        "id": "0f__DeQP5yd6",
        "outputId": "fd9bc38f-841b-40df-c9de-30aa75259ed4"
      },
      "source": [
        "e=df['Topic name'].unique()#уникальные значения по столбцу 'Topic name'\n",
        "#Предполагается делать по ним поиск. ///Ищу вариант с выдачей подсказки из списка \"e\"\n",
        "e"
      ],
      "execution_count": 28,
      "outputs": [
        {
          "output_type": "execute_result",
          "data": {
            "text/plain": [
              "array(['E', 'F', 'G', 'H'], dtype=object)"
            ]
          },
          "metadata": {
            "tags": []
          },
          "execution_count": 28
        }
      ]
    }
  ]
}
